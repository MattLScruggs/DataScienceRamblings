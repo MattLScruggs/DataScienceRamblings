{
  "cells": [
    {
      "cell_type": "markdown",
      "metadata": {
        "id": "view-in-github",
        "colab_type": "text"
      },
      "source": [
        "<a href=\"https://colab.research.google.com/github/MattLScruggs/DataScienceRamblings/blob/main/covid_19_forecast.ipynb\" target=\"_parent\"><img src=\"https://colab.research.google.com/assets/colab-badge.svg\" alt=\"Open In Colab\"/></a>"
      ]
    },
    {
      "cell_type": "markdown",
      "metadata": {
        "id": "6aJme54NLBeU"
      },
      "source": [
        "# Forecasting COVID-19 Cases"
      ]
    },
    {
      "cell_type": "markdown",
      "metadata": {
        "id": "3CbPJXg5LBeW"
      },
      "source": [
        "## Loading and cleaning data"
      ]
    },
    {
      "cell_type": "code",
      "execution_count": 1,
      "metadata": {
        "_cell_guid": "b1076dfc-b9ad-4769-8c92-a6c4dae69d19",
        "_uuid": "8f2839f25d086af736a60e9eeb907d3b93b6e0e5",
        "execution": {
          "iopub.execute_input": "2023-09-02T14:21:35.079384Z",
          "iopub.status.busy": "2023-09-02T14:21:35.078588Z",
          "iopub.status.idle": "2023-09-02T14:21:51.534970Z",
          "shell.execute_reply": "2023-09-02T14:21:51.533467Z",
          "shell.execute_reply.started": "2023-09-02T14:21:35.079344Z"
        },
        "colab": {
          "base_uri": "https://localhost:8080/"
        },
        "id": "ETBZETa8LBeW",
        "outputId": "286299ec-5fe8-4abd-e971-88fd7199ce0d"
      },
      "outputs": [
        {
          "output_type": "stream",
          "name": "stdout",
          "text": [
            "Collecting sodapy\n",
            "  Downloading sodapy-2.2.0-py2.py3-none-any.whl (15 kB)\n",
            "Requirement already satisfied: requests>=2.28.1 in /usr/local/lib/python3.10/dist-packages (from sodapy) (2.31.0)\n",
            "Requirement already satisfied: charset-normalizer<4,>=2 in /usr/local/lib/python3.10/dist-packages (from requests>=2.28.1->sodapy) (3.2.0)\n",
            "Requirement already satisfied: idna<4,>=2.5 in /usr/local/lib/python3.10/dist-packages (from requests>=2.28.1->sodapy) (3.4)\n",
            "Requirement already satisfied: urllib3<3,>=1.21.1 in /usr/local/lib/python3.10/dist-packages (from requests>=2.28.1->sodapy) (2.0.4)\n",
            "Requirement already satisfied: certifi>=2017.4.17 in /usr/local/lib/python3.10/dist-packages (from requests>=2.28.1->sodapy) (2023.7.22)\n",
            "Installing collected packages: sodapy\n",
            "Successfully installed sodapy-2.2.0\n"
          ]
        }
      ],
      "source": [
        "!pip install sodapy"
      ]
    },
    {
      "cell_type": "code",
      "execution_count": 2,
      "metadata": {
        "execution": {
          "iopub.execute_input": "2023-09-02T14:21:51.537967Z",
          "iopub.status.busy": "2023-09-02T14:21:51.537522Z",
          "iopub.status.idle": "2023-09-02T14:21:51.551249Z",
          "shell.execute_reply": "2023-09-02T14:21:51.549658Z",
          "shell.execute_reply.started": "2023-09-02T14:21:51.537918Z"
        },
        "id": "T2mQKTM1LBeX"
      },
      "outputs": [],
      "source": [
        "import numpy as np\n",
        "import pandas as pd\n",
        "import sodapy\n",
        "from sodapy import Socrata\n",
        "import matplotlib.pyplot as plt\n",
        "from datetime import datetime"
      ]
    },
    {
      "cell_type": "code",
      "execution_count": 3,
      "metadata": {
        "execution": {
          "iopub.execute_input": "2023-09-02T14:21:51.553938Z",
          "iopub.status.busy": "2023-09-02T14:21:51.553098Z",
          "iopub.status.idle": "2023-09-02T14:21:52.650174Z",
          "shell.execute_reply": "2023-09-02T14:21:52.648868Z",
          "shell.execute_reply.started": "2023-09-02T14:21:51.553886Z"
        },
        "colab": {
          "base_uri": "https://localhost:8080/"
        },
        "id": "yU6EJrJqLBeX",
        "outputId": "0b325053-4e4c-42ff-b216-b5be6e8872e4"
      },
      "outputs": [
        {
          "output_type": "stream",
          "name": "stderr",
          "text": [
            "WARNING:root:Requests made without an app_token will be subject to strict throttling limits.\n"
          ]
        }
      ],
      "source": [
        "client = Socrata(\"data.cdc.gov\", None)\n",
        "results = client.get(\"7dk4-g6vg\", limit = 100000)"
      ]
    },
    {
      "cell_type": "code",
      "execution_count": 4,
      "metadata": {
        "execution": {
          "iopub.execute_input": "2023-09-02T14:21:52.653389Z",
          "iopub.status.busy": "2023-09-02T14:21:52.653012Z",
          "iopub.status.idle": "2023-09-02T14:21:52.697629Z",
          "shell.execute_reply": "2023-09-02T14:21:52.696520Z",
          "shell.execute_reply.started": "2023-09-02T14:21:52.653357Z"
        },
        "colab": {
          "base_uri": "https://localhost:8080/"
        },
        "id": "qj1DObmtLBeY",
        "outputId": "6d334a43-04f4-4422-9019-c216e754076b"
      },
      "outputs": [
        {
          "output_type": "execute_result",
          "data": {
            "text/plain": [
              "10525"
            ]
          },
          "metadata": {},
          "execution_count": 4
        }
      ],
      "source": [
        "full_data=pd.DataFrame.from_records(results)\n",
        "full_data.shape[0]"
      ]
    },
    {
      "cell_type": "code",
      "execution_count": 5,
      "metadata": {
        "execution": {
          "iopub.execute_input": "2023-09-02T14:21:52.700043Z",
          "iopub.status.busy": "2023-09-02T14:21:52.699265Z",
          "iopub.status.idle": "2023-09-02T14:21:52.710742Z",
          "shell.execute_reply": "2023-09-02T14:21:52.709628Z",
          "shell.execute_reply.started": "2023-09-02T14:21:52.700004Z"
        },
        "colab": {
          "base_uri": "https://localhost:8080/"
        },
        "id": "EHfRSfRHLBeY",
        "outputId": "f8f3d377-ece3-4b6b-e87b-950512e0af74"
      },
      "outputs": [
        {
          "output_type": "stream",
          "name": "stdout",
          "text": [
            "week_ending_date                   object\n",
            "state                              object\n",
            "avg_adm_all_covid_confirmed        object\n",
            "pct_chg_avg_adm_all_covid          object\n",
            "total_adm_all_covid_confirmed      object\n",
            "total_adm_all_covid_confirmed_1    object\n",
            "sum_adm_all_covid_confirmed        object\n",
            "avg_total_patients                 object\n",
            "avg_percent_inpatient_beds         object\n",
            "abs_chg_avg_percent_inpatient      object\n",
            "avg_percent_staff_icu_beds         object\n",
            "abs_chg_avg_percent_staff          object\n",
            "dtype: object\n"
          ]
        },
        {
          "output_type": "execute_result",
          "data": {
            "text/plain": [
              "Index(['week_ending_date', 'state', 'avg_adm_all_covid_confirmed',\n",
              "       'pct_chg_avg_adm_all_covid', 'total_adm_all_covid_confirmed',\n",
              "       'total_adm_all_covid_confirmed_1', 'sum_adm_all_covid_confirmed',\n",
              "       'avg_total_patients', 'avg_percent_inpatient_beds',\n",
              "       'abs_chg_avg_percent_inpatient', 'avg_percent_staff_icu_beds',\n",
              "       'abs_chg_avg_percent_staff'],\n",
              "      dtype='object')"
            ]
          },
          "metadata": {},
          "execution_count": 5
        }
      ],
      "source": [
        "print(full_data.dtypes)\n",
        "full_data.columns"
      ]
    },
    {
      "cell_type": "code",
      "execution_count": 6,
      "metadata": {
        "execution": {
          "iopub.execute_input": "2023-09-02T14:21:52.712756Z",
          "iopub.status.busy": "2023-09-02T14:21:52.712399Z",
          "iopub.status.idle": "2023-09-02T14:21:52.731707Z",
          "shell.execute_reply": "2023-09-02T14:21:52.730221Z",
          "shell.execute_reply.started": "2023-09-02T14:21:52.712724Z"
        },
        "id": "wlcF5V5zLBeY"
      },
      "outputs": [],
      "source": [
        "#renaming columns I'll be using\n",
        "full_data=full_data.rename({\n",
        "                 'state':'geo_location',\n",
        "                 'avg_adm_all_covid_confirmed':'new_adm_7day_avg',\n",
        "                 'total_adm_all_covid_confirmed':'new_adm_7day_total',\n",
        "                 'total_adm_all_covid_confirmed_1':'new_adm_7day_total_per100k',\n",
        "                 'avg_percent_inpatient_beds':'inpatient_bed_occ_7day_avg',\n",
        "                 'avg_percent_staff_icu_beds':'icu_bed_occ_7day_avg'},axis=1)"
      ]
    },
    {
      "cell_type": "code",
      "execution_count": 7,
      "metadata": {
        "execution": {
          "iopub.execute_input": "2023-09-02T14:21:52.734101Z",
          "iopub.status.busy": "2023-09-02T14:21:52.733554Z",
          "iopub.status.idle": "2023-09-02T14:21:52.795404Z",
          "shell.execute_reply": "2023-09-02T14:21:52.794071Z",
          "shell.execute_reply.started": "2023-09-02T14:21:52.734045Z"
        },
        "id": "AKWrEBXjLBeZ"
      },
      "outputs": [],
      "source": [
        "#converting numerical variables to float64 instead of object\n",
        "full_data=full_data.astype({\n",
        "                 'new_adm_7day_avg':'float64',\n",
        "                 'new_adm_7day_total':'float64',\n",
        "                 'new_adm_7day_total_per100k':'float64',\n",
        "                 'inpatient_bed_occ_7day_avg':'float64',\n",
        "                 'icu_bed_occ_7day_avg':'float64'},errors = 'raise')[['week_ending_date','geo_location','new_adm_7day_total_per100k','inpatient_bed_occ_7day_avg','icu_bed_occ_7day_avg']]"
      ]
    },
    {
      "cell_type": "code",
      "execution_count": 8,
      "metadata": {
        "execution": {
          "iopub.execute_input": "2023-09-02T14:21:52.797296Z",
          "iopub.status.busy": "2023-09-02T14:21:52.796884Z",
          "iopub.status.idle": "2023-09-02T14:21:52.818773Z",
          "shell.execute_reply": "2023-09-02T14:21:52.817232Z",
          "shell.execute_reply.started": "2023-09-02T14:21:52.797259Z"
        },
        "colab": {
          "base_uri": "https://localhost:8080/",
          "height": 206
        },
        "id": "f0MXvhC5LBeZ",
        "outputId": "eadca12d-6fab-47db-ffc8-9be547c96732"
      },
      "outputs": [
        {
          "output_type": "execute_result",
          "data": {
            "text/plain": [
              "          week_ending_date geo_location  new_adm_7day_total_per100k  \\\n",
              "0  2020-11-21T00:00:00.000     Region 6                   30.290560   \n",
              "1  2020-11-28T00:00:00.000     Region 6                   29.494610   \n",
              "2  2020-12-05T00:00:00.000     Region 6                   30.791540   \n",
              "3  2020-12-12T00:00:00.000     Region 6                   31.931620   \n",
              "4  2020-12-19T00:00:00.000     Region 6                   33.462652   \n",
              "\n",
              "   inpatient_bed_occ_7day_avg  icu_bed_occ_7day_avg  \n",
              "0                   15.713667             20.824380  \n",
              "1                   18.099487             23.381095  \n",
              "2                   18.703638             25.678316  \n",
              "3                   18.789671             26.218160  \n",
              "4                   19.653407             26.863701  "
            ],
            "text/html": [
              "\n",
              "  <div id=\"df-00667f39-fd7e-40d6-ad64-85649caf97d9\" class=\"colab-df-container\">\n",
              "    <div>\n",
              "<style scoped>\n",
              "    .dataframe tbody tr th:only-of-type {\n",
              "        vertical-align: middle;\n",
              "    }\n",
              "\n",
              "    .dataframe tbody tr th {\n",
              "        vertical-align: top;\n",
              "    }\n",
              "\n",
              "    .dataframe thead th {\n",
              "        text-align: right;\n",
              "    }\n",
              "</style>\n",
              "<table border=\"1\" class=\"dataframe\">\n",
              "  <thead>\n",
              "    <tr style=\"text-align: right;\">\n",
              "      <th></th>\n",
              "      <th>week_ending_date</th>\n",
              "      <th>geo_location</th>\n",
              "      <th>new_adm_7day_total_per100k</th>\n",
              "      <th>inpatient_bed_occ_7day_avg</th>\n",
              "      <th>icu_bed_occ_7day_avg</th>\n",
              "    </tr>\n",
              "  </thead>\n",
              "  <tbody>\n",
              "    <tr>\n",
              "      <th>0</th>\n",
              "      <td>2020-11-21T00:00:00.000</td>\n",
              "      <td>Region 6</td>\n",
              "      <td>30.290560</td>\n",
              "      <td>15.713667</td>\n",
              "      <td>20.824380</td>\n",
              "    </tr>\n",
              "    <tr>\n",
              "      <th>1</th>\n",
              "      <td>2020-11-28T00:00:00.000</td>\n",
              "      <td>Region 6</td>\n",
              "      <td>29.494610</td>\n",
              "      <td>18.099487</td>\n",
              "      <td>23.381095</td>\n",
              "    </tr>\n",
              "    <tr>\n",
              "      <th>2</th>\n",
              "      <td>2020-12-05T00:00:00.000</td>\n",
              "      <td>Region 6</td>\n",
              "      <td>30.791540</td>\n",
              "      <td>18.703638</td>\n",
              "      <td>25.678316</td>\n",
              "    </tr>\n",
              "    <tr>\n",
              "      <th>3</th>\n",
              "      <td>2020-12-12T00:00:00.000</td>\n",
              "      <td>Region 6</td>\n",
              "      <td>31.931620</td>\n",
              "      <td>18.789671</td>\n",
              "      <td>26.218160</td>\n",
              "    </tr>\n",
              "    <tr>\n",
              "      <th>4</th>\n",
              "      <td>2020-12-19T00:00:00.000</td>\n",
              "      <td>Region 6</td>\n",
              "      <td>33.462652</td>\n",
              "      <td>19.653407</td>\n",
              "      <td>26.863701</td>\n",
              "    </tr>\n",
              "  </tbody>\n",
              "</table>\n",
              "</div>\n",
              "    <div class=\"colab-df-buttons\">\n",
              "\n",
              "  <div class=\"colab-df-container\">\n",
              "    <button class=\"colab-df-convert\" onclick=\"convertToInteractive('df-00667f39-fd7e-40d6-ad64-85649caf97d9')\"\n",
              "            title=\"Convert this dataframe to an interactive table.\"\n",
              "            style=\"display:none;\">\n",
              "\n",
              "  <svg xmlns=\"http://www.w3.org/2000/svg\" height=\"24px\" viewBox=\"0 -960 960 960\">\n",
              "    <path d=\"M120-120v-720h720v720H120Zm60-500h600v-160H180v160Zm220 220h160v-160H400v160Zm0 220h160v-160H400v160ZM180-400h160v-160H180v160Zm440 0h160v-160H620v160ZM180-180h160v-160H180v160Zm440 0h160v-160H620v160Z\"/>\n",
              "  </svg>\n",
              "    </button>\n",
              "\n",
              "  <style>\n",
              "    .colab-df-container {\n",
              "      display:flex;\n",
              "      gap: 12px;\n",
              "    }\n",
              "\n",
              "    .colab-df-convert {\n",
              "      background-color: #E8F0FE;\n",
              "      border: none;\n",
              "      border-radius: 50%;\n",
              "      cursor: pointer;\n",
              "      display: none;\n",
              "      fill: #1967D2;\n",
              "      height: 32px;\n",
              "      padding: 0 0 0 0;\n",
              "      width: 32px;\n",
              "    }\n",
              "\n",
              "    .colab-df-convert:hover {\n",
              "      background-color: #E2EBFA;\n",
              "      box-shadow: 0px 1px 2px rgba(60, 64, 67, 0.3), 0px 1px 3px 1px rgba(60, 64, 67, 0.15);\n",
              "      fill: #174EA6;\n",
              "    }\n",
              "\n",
              "    .colab-df-buttons div {\n",
              "      margin-bottom: 4px;\n",
              "    }\n",
              "\n",
              "    [theme=dark] .colab-df-convert {\n",
              "      background-color: #3B4455;\n",
              "      fill: #D2E3FC;\n",
              "    }\n",
              "\n",
              "    [theme=dark] .colab-df-convert:hover {\n",
              "      background-color: #434B5C;\n",
              "      box-shadow: 0px 1px 3px 1px rgba(0, 0, 0, 0.15);\n",
              "      filter: drop-shadow(0px 1px 2px rgba(0, 0, 0, 0.3));\n",
              "      fill: #FFFFFF;\n",
              "    }\n",
              "  </style>\n",
              "\n",
              "    <script>\n",
              "      const buttonEl =\n",
              "        document.querySelector('#df-00667f39-fd7e-40d6-ad64-85649caf97d9 button.colab-df-convert');\n",
              "      buttonEl.style.display =\n",
              "        google.colab.kernel.accessAllowed ? 'block' : 'none';\n",
              "\n",
              "      async function convertToInteractive(key) {\n",
              "        const element = document.querySelector('#df-00667f39-fd7e-40d6-ad64-85649caf97d9');\n",
              "        const dataTable =\n",
              "          await google.colab.kernel.invokeFunction('convertToInteractive',\n",
              "                                                    [key], {});\n",
              "        if (!dataTable) return;\n",
              "\n",
              "        const docLinkHtml = 'Like what you see? Visit the ' +\n",
              "          '<a target=\"_blank\" href=https://colab.research.google.com/notebooks/data_table.ipynb>data table notebook</a>'\n",
              "          + ' to learn more about interactive tables.';\n",
              "        element.innerHTML = '';\n",
              "        dataTable['output_type'] = 'display_data';\n",
              "        await google.colab.output.renderOutput(dataTable, element);\n",
              "        const docLink = document.createElement('div');\n",
              "        docLink.innerHTML = docLinkHtml;\n",
              "        element.appendChild(docLink);\n",
              "      }\n",
              "    </script>\n",
              "  </div>\n",
              "\n",
              "\n",
              "<div id=\"df-c5a4f0e6-25b6-44ad-9d6c-e4ac33b074ba\">\n",
              "  <button class=\"colab-df-quickchart\" onclick=\"quickchart('df-c5a4f0e6-25b6-44ad-9d6c-e4ac33b074ba')\"\n",
              "            title=\"Suggest charts.\"\n",
              "            style=\"display:none;\">\n",
              "\n",
              "<svg xmlns=\"http://www.w3.org/2000/svg\" height=\"24px\"viewBox=\"0 0 24 24\"\n",
              "     width=\"24px\">\n",
              "    <g>\n",
              "        <path d=\"M19 3H5c-1.1 0-2 .9-2 2v14c0 1.1.9 2 2 2h14c1.1 0 2-.9 2-2V5c0-1.1-.9-2-2-2zM9 17H7v-7h2v7zm4 0h-2V7h2v10zm4 0h-2v-4h2v4z\"/>\n",
              "    </g>\n",
              "</svg>\n",
              "  </button>\n",
              "\n",
              "<style>\n",
              "  .colab-df-quickchart {\n",
              "      --bg-color: #E8F0FE;\n",
              "      --fill-color: #1967D2;\n",
              "      --hover-bg-color: #E2EBFA;\n",
              "      --hover-fill-color: #174EA6;\n",
              "      --disabled-fill-color: #AAA;\n",
              "      --disabled-bg-color: #DDD;\n",
              "  }\n",
              "\n",
              "  [theme=dark] .colab-df-quickchart {\n",
              "      --bg-color: #3B4455;\n",
              "      --fill-color: #D2E3FC;\n",
              "      --hover-bg-color: #434B5C;\n",
              "      --hover-fill-color: #FFFFFF;\n",
              "      --disabled-bg-color: #3B4455;\n",
              "      --disabled-fill-color: #666;\n",
              "  }\n",
              "\n",
              "  .colab-df-quickchart {\n",
              "    background-color: var(--bg-color);\n",
              "    border: none;\n",
              "    border-radius: 50%;\n",
              "    cursor: pointer;\n",
              "    display: none;\n",
              "    fill: var(--fill-color);\n",
              "    height: 32px;\n",
              "    padding: 0;\n",
              "    width: 32px;\n",
              "  }\n",
              "\n",
              "  .colab-df-quickchart:hover {\n",
              "    background-color: var(--hover-bg-color);\n",
              "    box-shadow: 0 1px 2px rgba(60, 64, 67, 0.3), 0 1px 3px 1px rgba(60, 64, 67, 0.15);\n",
              "    fill: var(--button-hover-fill-color);\n",
              "  }\n",
              "\n",
              "  .colab-df-quickchart-complete:disabled,\n",
              "  .colab-df-quickchart-complete:disabled:hover {\n",
              "    background-color: var(--disabled-bg-color);\n",
              "    fill: var(--disabled-fill-color);\n",
              "    box-shadow: none;\n",
              "  }\n",
              "\n",
              "  .colab-df-spinner {\n",
              "    border: 2px solid var(--fill-color);\n",
              "    border-color: transparent;\n",
              "    border-bottom-color: var(--fill-color);\n",
              "    animation:\n",
              "      spin 1s steps(1) infinite;\n",
              "  }\n",
              "\n",
              "  @keyframes spin {\n",
              "    0% {\n",
              "      border-color: transparent;\n",
              "      border-bottom-color: var(--fill-color);\n",
              "      border-left-color: var(--fill-color);\n",
              "    }\n",
              "    20% {\n",
              "      border-color: transparent;\n",
              "      border-left-color: var(--fill-color);\n",
              "      border-top-color: var(--fill-color);\n",
              "    }\n",
              "    30% {\n",
              "      border-color: transparent;\n",
              "      border-left-color: var(--fill-color);\n",
              "      border-top-color: var(--fill-color);\n",
              "      border-right-color: var(--fill-color);\n",
              "    }\n",
              "    40% {\n",
              "      border-color: transparent;\n",
              "      border-right-color: var(--fill-color);\n",
              "      border-top-color: var(--fill-color);\n",
              "    }\n",
              "    60% {\n",
              "      border-color: transparent;\n",
              "      border-right-color: var(--fill-color);\n",
              "    }\n",
              "    80% {\n",
              "      border-color: transparent;\n",
              "      border-right-color: var(--fill-color);\n",
              "      border-bottom-color: var(--fill-color);\n",
              "    }\n",
              "    90% {\n",
              "      border-color: transparent;\n",
              "      border-bottom-color: var(--fill-color);\n",
              "    }\n",
              "  }\n",
              "</style>\n",
              "\n",
              "  <script>\n",
              "    async function quickchart(key) {\n",
              "      const quickchartButtonEl =\n",
              "        document.querySelector('#' + key + ' button');\n",
              "      quickchartButtonEl.disabled = true;  // To prevent multiple clicks.\n",
              "      quickchartButtonEl.classList.add('colab-df-spinner');\n",
              "      try {\n",
              "        const charts = await google.colab.kernel.invokeFunction(\n",
              "            'suggestCharts', [key], {});\n",
              "      } catch (error) {\n",
              "        console.error('Error during call to suggestCharts:', error);\n",
              "      }\n",
              "      quickchartButtonEl.classList.remove('colab-df-spinner');\n",
              "      quickchartButtonEl.classList.add('colab-df-quickchart-complete');\n",
              "    }\n",
              "    (() => {\n",
              "      let quickchartButtonEl =\n",
              "        document.querySelector('#df-c5a4f0e6-25b6-44ad-9d6c-e4ac33b074ba button');\n",
              "      quickchartButtonEl.style.display =\n",
              "        google.colab.kernel.accessAllowed ? 'block' : 'none';\n",
              "    })();\n",
              "  </script>\n",
              "</div>\n",
              "    </div>\n",
              "  </div>\n"
            ]
          },
          "metadata": {},
          "execution_count": 8
        }
      ],
      "source": [
        "full_data.head()"
      ]
    },
    {
      "cell_type": "markdown",
      "metadata": {
        "id": "mBQHlieZLBeZ"
      },
      "source": [
        "### Turning raw data into a useful timeseries\n",
        "I'm going to just use the \"new_adm\" column, since that's the metric that I'm concerned with (total new admissions per 100k for the previous 7 day period). I'll turn the week_ending column into the index, pivot on that, and drop the rest."
      ]
    },
    {
      "cell_type": "code",
      "execution_count": 9,
      "metadata": {
        "execution": {
          "iopub.execute_input": "2023-09-02T14:21:52.820916Z",
          "iopub.status.busy": "2023-09-02T14:21:52.820503Z",
          "iopub.status.idle": "2023-09-02T14:21:52.848117Z",
          "shell.execute_reply": "2023-09-02T14:21:52.846794Z",
          "shell.execute_reply.started": "2023-09-02T14:21:52.820881Z"
        },
        "colab": {
          "base_uri": "https://localhost:8080/",
          "height": 238
        },
        "id": "Yu_aXXQBLBeZ",
        "outputId": "e7182c67-a0e0-4977-d18e-9ff71b89704e"
      },
      "outputs": [
        {
          "output_type": "execute_result",
          "data": {
            "text/plain": [
              "           geo_location  new_adm_7day_total_per100k\n",
              "week                                               \n",
              "2020-11-21     Region 6                   30.290560\n",
              "2020-11-28     Region 6                   29.494610\n",
              "2020-12-05     Region 6                   30.791540\n",
              "2020-12-12     Region 6                   31.931620\n",
              "2020-12-19     Region 6                   33.462652"
            ],
            "text/html": [
              "\n",
              "  <div id=\"df-ce8205db-6c57-4388-b763-651a576dc402\" class=\"colab-df-container\">\n",
              "    <div>\n",
              "<style scoped>\n",
              "    .dataframe tbody tr th:only-of-type {\n",
              "        vertical-align: middle;\n",
              "    }\n",
              "\n",
              "    .dataframe tbody tr th {\n",
              "        vertical-align: top;\n",
              "    }\n",
              "\n",
              "    .dataframe thead th {\n",
              "        text-align: right;\n",
              "    }\n",
              "</style>\n",
              "<table border=\"1\" class=\"dataframe\">\n",
              "  <thead>\n",
              "    <tr style=\"text-align: right;\">\n",
              "      <th></th>\n",
              "      <th>geo_location</th>\n",
              "      <th>new_adm_7day_total_per100k</th>\n",
              "    </tr>\n",
              "    <tr>\n",
              "      <th>week</th>\n",
              "      <th></th>\n",
              "      <th></th>\n",
              "    </tr>\n",
              "  </thead>\n",
              "  <tbody>\n",
              "    <tr>\n",
              "      <th>2020-11-21</th>\n",
              "      <td>Region 6</td>\n",
              "      <td>30.290560</td>\n",
              "    </tr>\n",
              "    <tr>\n",
              "      <th>2020-11-28</th>\n",
              "      <td>Region 6</td>\n",
              "      <td>29.494610</td>\n",
              "    </tr>\n",
              "    <tr>\n",
              "      <th>2020-12-05</th>\n",
              "      <td>Region 6</td>\n",
              "      <td>30.791540</td>\n",
              "    </tr>\n",
              "    <tr>\n",
              "      <th>2020-12-12</th>\n",
              "      <td>Region 6</td>\n",
              "      <td>31.931620</td>\n",
              "    </tr>\n",
              "    <tr>\n",
              "      <th>2020-12-19</th>\n",
              "      <td>Region 6</td>\n",
              "      <td>33.462652</td>\n",
              "    </tr>\n",
              "  </tbody>\n",
              "</table>\n",
              "</div>\n",
              "    <div class=\"colab-df-buttons\">\n",
              "\n",
              "  <div class=\"colab-df-container\">\n",
              "    <button class=\"colab-df-convert\" onclick=\"convertToInteractive('df-ce8205db-6c57-4388-b763-651a576dc402')\"\n",
              "            title=\"Convert this dataframe to an interactive table.\"\n",
              "            style=\"display:none;\">\n",
              "\n",
              "  <svg xmlns=\"http://www.w3.org/2000/svg\" height=\"24px\" viewBox=\"0 -960 960 960\">\n",
              "    <path d=\"M120-120v-720h720v720H120Zm60-500h600v-160H180v160Zm220 220h160v-160H400v160Zm0 220h160v-160H400v160ZM180-400h160v-160H180v160Zm440 0h160v-160H620v160ZM180-180h160v-160H180v160Zm440 0h160v-160H620v160Z\"/>\n",
              "  </svg>\n",
              "    </button>\n",
              "\n",
              "  <style>\n",
              "    .colab-df-container {\n",
              "      display:flex;\n",
              "      gap: 12px;\n",
              "    }\n",
              "\n",
              "    .colab-df-convert {\n",
              "      background-color: #E8F0FE;\n",
              "      border: none;\n",
              "      border-radius: 50%;\n",
              "      cursor: pointer;\n",
              "      display: none;\n",
              "      fill: #1967D2;\n",
              "      height: 32px;\n",
              "      padding: 0 0 0 0;\n",
              "      width: 32px;\n",
              "    }\n",
              "\n",
              "    .colab-df-convert:hover {\n",
              "      background-color: #E2EBFA;\n",
              "      box-shadow: 0px 1px 2px rgba(60, 64, 67, 0.3), 0px 1px 3px 1px rgba(60, 64, 67, 0.15);\n",
              "      fill: #174EA6;\n",
              "    }\n",
              "\n",
              "    .colab-df-buttons div {\n",
              "      margin-bottom: 4px;\n",
              "    }\n",
              "\n",
              "    [theme=dark] .colab-df-convert {\n",
              "      background-color: #3B4455;\n",
              "      fill: #D2E3FC;\n",
              "    }\n",
              "\n",
              "    [theme=dark] .colab-df-convert:hover {\n",
              "      background-color: #434B5C;\n",
              "      box-shadow: 0px 1px 3px 1px rgba(0, 0, 0, 0.15);\n",
              "      filter: drop-shadow(0px 1px 2px rgba(0, 0, 0, 0.3));\n",
              "      fill: #FFFFFF;\n",
              "    }\n",
              "  </style>\n",
              "\n",
              "    <script>\n",
              "      const buttonEl =\n",
              "        document.querySelector('#df-ce8205db-6c57-4388-b763-651a576dc402 button.colab-df-convert');\n",
              "      buttonEl.style.display =\n",
              "        google.colab.kernel.accessAllowed ? 'block' : 'none';\n",
              "\n",
              "      async function convertToInteractive(key) {\n",
              "        const element = document.querySelector('#df-ce8205db-6c57-4388-b763-651a576dc402');\n",
              "        const dataTable =\n",
              "          await google.colab.kernel.invokeFunction('convertToInteractive',\n",
              "                                                    [key], {});\n",
              "        if (!dataTable) return;\n",
              "\n",
              "        const docLinkHtml = 'Like what you see? Visit the ' +\n",
              "          '<a target=\"_blank\" href=https://colab.research.google.com/notebooks/data_table.ipynb>data table notebook</a>'\n",
              "          + ' to learn more about interactive tables.';\n",
              "        element.innerHTML = '';\n",
              "        dataTable['output_type'] = 'display_data';\n",
              "        await google.colab.output.renderOutput(dataTable, element);\n",
              "        const docLink = document.createElement('div');\n",
              "        docLink.innerHTML = docLinkHtml;\n",
              "        element.appendChild(docLink);\n",
              "      }\n",
              "    </script>\n",
              "  </div>\n",
              "\n",
              "\n",
              "<div id=\"df-20db033a-25fd-45ed-a89f-eeb5d08e167d\">\n",
              "  <button class=\"colab-df-quickchart\" onclick=\"quickchart('df-20db033a-25fd-45ed-a89f-eeb5d08e167d')\"\n",
              "            title=\"Suggest charts.\"\n",
              "            style=\"display:none;\">\n",
              "\n",
              "<svg xmlns=\"http://www.w3.org/2000/svg\" height=\"24px\"viewBox=\"0 0 24 24\"\n",
              "     width=\"24px\">\n",
              "    <g>\n",
              "        <path d=\"M19 3H5c-1.1 0-2 .9-2 2v14c0 1.1.9 2 2 2h14c1.1 0 2-.9 2-2V5c0-1.1-.9-2-2-2zM9 17H7v-7h2v7zm4 0h-2V7h2v10zm4 0h-2v-4h2v4z\"/>\n",
              "    </g>\n",
              "</svg>\n",
              "  </button>\n",
              "\n",
              "<style>\n",
              "  .colab-df-quickchart {\n",
              "      --bg-color: #E8F0FE;\n",
              "      --fill-color: #1967D2;\n",
              "      --hover-bg-color: #E2EBFA;\n",
              "      --hover-fill-color: #174EA6;\n",
              "      --disabled-fill-color: #AAA;\n",
              "      --disabled-bg-color: #DDD;\n",
              "  }\n",
              "\n",
              "  [theme=dark] .colab-df-quickchart {\n",
              "      --bg-color: #3B4455;\n",
              "      --fill-color: #D2E3FC;\n",
              "      --hover-bg-color: #434B5C;\n",
              "      --hover-fill-color: #FFFFFF;\n",
              "      --disabled-bg-color: #3B4455;\n",
              "      --disabled-fill-color: #666;\n",
              "  }\n",
              "\n",
              "  .colab-df-quickchart {\n",
              "    background-color: var(--bg-color);\n",
              "    border: none;\n",
              "    border-radius: 50%;\n",
              "    cursor: pointer;\n",
              "    display: none;\n",
              "    fill: var(--fill-color);\n",
              "    height: 32px;\n",
              "    padding: 0;\n",
              "    width: 32px;\n",
              "  }\n",
              "\n",
              "  .colab-df-quickchart:hover {\n",
              "    background-color: var(--hover-bg-color);\n",
              "    box-shadow: 0 1px 2px rgba(60, 64, 67, 0.3), 0 1px 3px 1px rgba(60, 64, 67, 0.15);\n",
              "    fill: var(--button-hover-fill-color);\n",
              "  }\n",
              "\n",
              "  .colab-df-quickchart-complete:disabled,\n",
              "  .colab-df-quickchart-complete:disabled:hover {\n",
              "    background-color: var(--disabled-bg-color);\n",
              "    fill: var(--disabled-fill-color);\n",
              "    box-shadow: none;\n",
              "  }\n",
              "\n",
              "  .colab-df-spinner {\n",
              "    border: 2px solid var(--fill-color);\n",
              "    border-color: transparent;\n",
              "    border-bottom-color: var(--fill-color);\n",
              "    animation:\n",
              "      spin 1s steps(1) infinite;\n",
              "  }\n",
              "\n",
              "  @keyframes spin {\n",
              "    0% {\n",
              "      border-color: transparent;\n",
              "      border-bottom-color: var(--fill-color);\n",
              "      border-left-color: var(--fill-color);\n",
              "    }\n",
              "    20% {\n",
              "      border-color: transparent;\n",
              "      border-left-color: var(--fill-color);\n",
              "      border-top-color: var(--fill-color);\n",
              "    }\n",
              "    30% {\n",
              "      border-color: transparent;\n",
              "      border-left-color: var(--fill-color);\n",
              "      border-top-color: var(--fill-color);\n",
              "      border-right-color: var(--fill-color);\n",
              "    }\n",
              "    40% {\n",
              "      border-color: transparent;\n",
              "      border-right-color: var(--fill-color);\n",
              "      border-top-color: var(--fill-color);\n",
              "    }\n",
              "    60% {\n",
              "      border-color: transparent;\n",
              "      border-right-color: var(--fill-color);\n",
              "    }\n",
              "    80% {\n",
              "      border-color: transparent;\n",
              "      border-right-color: var(--fill-color);\n",
              "      border-bottom-color: var(--fill-color);\n",
              "    }\n",
              "    90% {\n",
              "      border-color: transparent;\n",
              "      border-bottom-color: var(--fill-color);\n",
              "    }\n",
              "  }\n",
              "</style>\n",
              "\n",
              "  <script>\n",
              "    async function quickchart(key) {\n",
              "      const quickchartButtonEl =\n",
              "        document.querySelector('#' + key + ' button');\n",
              "      quickchartButtonEl.disabled = true;  // To prevent multiple clicks.\n",
              "      quickchartButtonEl.classList.add('colab-df-spinner');\n",
              "      try {\n",
              "        const charts = await google.colab.kernel.invokeFunction(\n",
              "            'suggestCharts', [key], {});\n",
              "      } catch (error) {\n",
              "        console.error('Error during call to suggestCharts:', error);\n",
              "      }\n",
              "      quickchartButtonEl.classList.remove('colab-df-spinner');\n",
              "      quickchartButtonEl.classList.add('colab-df-quickchart-complete');\n",
              "    }\n",
              "    (() => {\n",
              "      let quickchartButtonEl =\n",
              "        document.querySelector('#df-20db033a-25fd-45ed-a89f-eeb5d08e167d button');\n",
              "      quickchartButtonEl.style.display =\n",
              "        google.colab.kernel.accessAllowed ? 'block' : 'none';\n",
              "    })();\n",
              "  </script>\n",
              "</div>\n",
              "    </div>\n",
              "  </div>\n"
            ]
          },
          "metadata": {},
          "execution_count": 9
        }
      ],
      "source": [
        "full_data['week']=pd.to_datetime(full_data['week_ending_date'])\n",
        "full_data=full_data.set_index(['week']).drop(columns=['week_ending_date','inpatient_bed_occ_7day_avg','icu_bed_occ_7day_avg'])\n",
        "full_data.head()"
      ]
    },
    {
      "cell_type": "code",
      "execution_count": 10,
      "metadata": {
        "execution": {
          "iopub.execute_input": "2023-09-02T14:21:52.851882Z",
          "iopub.status.busy": "2023-09-02T14:21:52.851504Z",
          "iopub.status.idle": "2023-09-02T14:21:52.900988Z",
          "shell.execute_reply": "2023-09-02T14:21:52.899570Z",
          "shell.execute_reply.started": "2023-09-02T14:21:52.851850Z"
        },
        "colab": {
          "base_uri": "https://localhost:8080/",
          "height": 267
        },
        "id": "TIFQpTo2LBea",
        "outputId": "6a7aa644-cc4a-4428-c247-6c04198122db"
      },
      "outputs": [
        {
          "output_type": "execute_result",
          "data": {
            "text/plain": [
              "geo_location        AK         AL         AR  AS         AZ         CA  \\\n",
              "week                                                                     \n",
              "2020-08-08    3.827516  13.542218  14.878369 NaN  10.441401  11.849498   \n",
              "2020-08-15    3.007334  13.440243  13.652311 NaN   9.919331  10.358820   \n",
              "2020-08-22    4.237607  15.806053  14.083088 NaN   8.806497   8.374624   \n",
              "2020-08-29    4.237607  17.417250  11.332744 NaN   7.254026   7.324316   \n",
              "2020-09-05    4.784395  16.907378  10.868830 NaN   6.635785   6.744748   \n",
              "\n",
              "geo_location        CO        CT         DC        DE  ...         TX  \\\n",
              "week                                                   ...              \n",
              "2020-08-08    5.487315  2.832872  14.452730  0.718860  ...  17.861158   \n",
              "2020-08-15    4.445420  1.430460  14.736117  3.080829  ...  15.160774   \n",
              "2020-08-22    2.552643  2.159714  12.610716  4.826632  ...  13.163939   \n",
              "2020-08-29    2.378994  1.738990   9.776847  5.956269  ...  11.818920   \n",
              "2020-09-05    2.413724  2.187762  11.477168  6.777823  ...  11.111923   \n",
              "\n",
              "geo_location       USA        UT        VA         VI        VT        WA  \\\n",
              "week                                                                        \n",
              "2020-08-08    9.531972  3.992566  3.936492   0.939805  0.480778  2.495111   \n",
              "2020-08-15    9.010601  3.930182  4.944046   0.939805  0.801296  2.455714   \n",
              "2020-08-22    8.864520  2.776081  4.862036  15.976693  0.961555  2.127410   \n",
              "2020-08-29    8.496458  3.930182  4.639437   7.518444  0.961555  1.891031   \n",
              "2020-09-05    7.974183  4.335678  5.447823   3.759222  0.801296  2.534507   \n",
              "\n",
              "geo_location        WI        WV         WY  \n",
              "week                                         \n",
              "2020-08-08    8.810748  5.412502  12.094844  \n",
              "2020-08-15    8.295500  4.129126   6.911340  \n",
              "2020-08-22    7.608502  5.189306   6.392989  \n",
              "2020-08-29    7.333703  6.361085   6.392989  \n",
              "2020-09-05    6.784104  5.356703   7.256907  \n",
              "\n",
              "[5 rows x 67 columns]"
            ],
            "text/html": [
              "\n",
              "  <div id=\"df-c58bbf91-7a50-46ed-8c9c-5f276e0940af\" class=\"colab-df-container\">\n",
              "    <div>\n",
              "<style scoped>\n",
              "    .dataframe tbody tr th:only-of-type {\n",
              "        vertical-align: middle;\n",
              "    }\n",
              "\n",
              "    .dataframe tbody tr th {\n",
              "        vertical-align: top;\n",
              "    }\n",
              "\n",
              "    .dataframe thead th {\n",
              "        text-align: right;\n",
              "    }\n",
              "</style>\n",
              "<table border=\"1\" class=\"dataframe\">\n",
              "  <thead>\n",
              "    <tr style=\"text-align: right;\">\n",
              "      <th>geo_location</th>\n",
              "      <th>AK</th>\n",
              "      <th>AL</th>\n",
              "      <th>AR</th>\n",
              "      <th>AS</th>\n",
              "      <th>AZ</th>\n",
              "      <th>CA</th>\n",
              "      <th>CO</th>\n",
              "      <th>CT</th>\n",
              "      <th>DC</th>\n",
              "      <th>DE</th>\n",
              "      <th>...</th>\n",
              "      <th>TX</th>\n",
              "      <th>USA</th>\n",
              "      <th>UT</th>\n",
              "      <th>VA</th>\n",
              "      <th>VI</th>\n",
              "      <th>VT</th>\n",
              "      <th>WA</th>\n",
              "      <th>WI</th>\n",
              "      <th>WV</th>\n",
              "      <th>WY</th>\n",
              "    </tr>\n",
              "    <tr>\n",
              "      <th>week</th>\n",
              "      <th></th>\n",
              "      <th></th>\n",
              "      <th></th>\n",
              "      <th></th>\n",
              "      <th></th>\n",
              "      <th></th>\n",
              "      <th></th>\n",
              "      <th></th>\n",
              "      <th></th>\n",
              "      <th></th>\n",
              "      <th></th>\n",
              "      <th></th>\n",
              "      <th></th>\n",
              "      <th></th>\n",
              "      <th></th>\n",
              "      <th></th>\n",
              "      <th></th>\n",
              "      <th></th>\n",
              "      <th></th>\n",
              "      <th></th>\n",
              "      <th></th>\n",
              "    </tr>\n",
              "  </thead>\n",
              "  <tbody>\n",
              "    <tr>\n",
              "      <th>2020-08-08</th>\n",
              "      <td>3.827516</td>\n",
              "      <td>13.542218</td>\n",
              "      <td>14.878369</td>\n",
              "      <td>NaN</td>\n",
              "      <td>10.441401</td>\n",
              "      <td>11.849498</td>\n",
              "      <td>5.487315</td>\n",
              "      <td>2.832872</td>\n",
              "      <td>14.452730</td>\n",
              "      <td>0.718860</td>\n",
              "      <td>...</td>\n",
              "      <td>17.861158</td>\n",
              "      <td>9.531972</td>\n",
              "      <td>3.992566</td>\n",
              "      <td>3.936492</td>\n",
              "      <td>0.939805</td>\n",
              "      <td>0.480778</td>\n",
              "      <td>2.495111</td>\n",
              "      <td>8.810748</td>\n",
              "      <td>5.412502</td>\n",
              "      <td>12.094844</td>\n",
              "    </tr>\n",
              "    <tr>\n",
              "      <th>2020-08-15</th>\n",
              "      <td>3.007334</td>\n",
              "      <td>13.440243</td>\n",
              "      <td>13.652311</td>\n",
              "      <td>NaN</td>\n",
              "      <td>9.919331</td>\n",
              "      <td>10.358820</td>\n",
              "      <td>4.445420</td>\n",
              "      <td>1.430460</td>\n",
              "      <td>14.736117</td>\n",
              "      <td>3.080829</td>\n",
              "      <td>...</td>\n",
              "      <td>15.160774</td>\n",
              "      <td>9.010601</td>\n",
              "      <td>3.930182</td>\n",
              "      <td>4.944046</td>\n",
              "      <td>0.939805</td>\n",
              "      <td>0.801296</td>\n",
              "      <td>2.455714</td>\n",
              "      <td>8.295500</td>\n",
              "      <td>4.129126</td>\n",
              "      <td>6.911340</td>\n",
              "    </tr>\n",
              "    <tr>\n",
              "      <th>2020-08-22</th>\n",
              "      <td>4.237607</td>\n",
              "      <td>15.806053</td>\n",
              "      <td>14.083088</td>\n",
              "      <td>NaN</td>\n",
              "      <td>8.806497</td>\n",
              "      <td>8.374624</td>\n",
              "      <td>2.552643</td>\n",
              "      <td>2.159714</td>\n",
              "      <td>12.610716</td>\n",
              "      <td>4.826632</td>\n",
              "      <td>...</td>\n",
              "      <td>13.163939</td>\n",
              "      <td>8.864520</td>\n",
              "      <td>2.776081</td>\n",
              "      <td>4.862036</td>\n",
              "      <td>15.976693</td>\n",
              "      <td>0.961555</td>\n",
              "      <td>2.127410</td>\n",
              "      <td>7.608502</td>\n",
              "      <td>5.189306</td>\n",
              "      <td>6.392989</td>\n",
              "    </tr>\n",
              "    <tr>\n",
              "      <th>2020-08-29</th>\n",
              "      <td>4.237607</td>\n",
              "      <td>17.417250</td>\n",
              "      <td>11.332744</td>\n",
              "      <td>NaN</td>\n",
              "      <td>7.254026</td>\n",
              "      <td>7.324316</td>\n",
              "      <td>2.378994</td>\n",
              "      <td>1.738990</td>\n",
              "      <td>9.776847</td>\n",
              "      <td>5.956269</td>\n",
              "      <td>...</td>\n",
              "      <td>11.818920</td>\n",
              "      <td>8.496458</td>\n",
              "      <td>3.930182</td>\n",
              "      <td>4.639437</td>\n",
              "      <td>7.518444</td>\n",
              "      <td>0.961555</td>\n",
              "      <td>1.891031</td>\n",
              "      <td>7.333703</td>\n",
              "      <td>6.361085</td>\n",
              "      <td>6.392989</td>\n",
              "    </tr>\n",
              "    <tr>\n",
              "      <th>2020-09-05</th>\n",
              "      <td>4.784395</td>\n",
              "      <td>16.907378</td>\n",
              "      <td>10.868830</td>\n",
              "      <td>NaN</td>\n",
              "      <td>6.635785</td>\n",
              "      <td>6.744748</td>\n",
              "      <td>2.413724</td>\n",
              "      <td>2.187762</td>\n",
              "      <td>11.477168</td>\n",
              "      <td>6.777823</td>\n",
              "      <td>...</td>\n",
              "      <td>11.111923</td>\n",
              "      <td>7.974183</td>\n",
              "      <td>4.335678</td>\n",
              "      <td>5.447823</td>\n",
              "      <td>3.759222</td>\n",
              "      <td>0.801296</td>\n",
              "      <td>2.534507</td>\n",
              "      <td>6.784104</td>\n",
              "      <td>5.356703</td>\n",
              "      <td>7.256907</td>\n",
              "    </tr>\n",
              "  </tbody>\n",
              "</table>\n",
              "<p>5 rows × 67 columns</p>\n",
              "</div>\n",
              "    <div class=\"colab-df-buttons\">\n",
              "\n",
              "  <div class=\"colab-df-container\">\n",
              "    <button class=\"colab-df-convert\" onclick=\"convertToInteractive('df-c58bbf91-7a50-46ed-8c9c-5f276e0940af')\"\n",
              "            title=\"Convert this dataframe to an interactive table.\"\n",
              "            style=\"display:none;\">\n",
              "\n",
              "  <svg xmlns=\"http://www.w3.org/2000/svg\" height=\"24px\" viewBox=\"0 -960 960 960\">\n",
              "    <path d=\"M120-120v-720h720v720H120Zm60-500h600v-160H180v160Zm220 220h160v-160H400v160Zm0 220h160v-160H400v160ZM180-400h160v-160H180v160Zm440 0h160v-160H620v160ZM180-180h160v-160H180v160Zm440 0h160v-160H620v160Z\"/>\n",
              "  </svg>\n",
              "    </button>\n",
              "\n",
              "  <style>\n",
              "    .colab-df-container {\n",
              "      display:flex;\n",
              "      gap: 12px;\n",
              "    }\n",
              "\n",
              "    .colab-df-convert {\n",
              "      background-color: #E8F0FE;\n",
              "      border: none;\n",
              "      border-radius: 50%;\n",
              "      cursor: pointer;\n",
              "      display: none;\n",
              "      fill: #1967D2;\n",
              "      height: 32px;\n",
              "      padding: 0 0 0 0;\n",
              "      width: 32px;\n",
              "    }\n",
              "\n",
              "    .colab-df-convert:hover {\n",
              "      background-color: #E2EBFA;\n",
              "      box-shadow: 0px 1px 2px rgba(60, 64, 67, 0.3), 0px 1px 3px 1px rgba(60, 64, 67, 0.15);\n",
              "      fill: #174EA6;\n",
              "    }\n",
              "\n",
              "    .colab-df-buttons div {\n",
              "      margin-bottom: 4px;\n",
              "    }\n",
              "\n",
              "    [theme=dark] .colab-df-convert {\n",
              "      background-color: #3B4455;\n",
              "      fill: #D2E3FC;\n",
              "    }\n",
              "\n",
              "    [theme=dark] .colab-df-convert:hover {\n",
              "      background-color: #434B5C;\n",
              "      box-shadow: 0px 1px 3px 1px rgba(0, 0, 0, 0.15);\n",
              "      filter: drop-shadow(0px 1px 2px rgba(0, 0, 0, 0.3));\n",
              "      fill: #FFFFFF;\n",
              "    }\n",
              "  </style>\n",
              "\n",
              "    <script>\n",
              "      const buttonEl =\n",
              "        document.querySelector('#df-c58bbf91-7a50-46ed-8c9c-5f276e0940af button.colab-df-convert');\n",
              "      buttonEl.style.display =\n",
              "        google.colab.kernel.accessAllowed ? 'block' : 'none';\n",
              "\n",
              "      async function convertToInteractive(key) {\n",
              "        const element = document.querySelector('#df-c58bbf91-7a50-46ed-8c9c-5f276e0940af');\n",
              "        const dataTable =\n",
              "          await google.colab.kernel.invokeFunction('convertToInteractive',\n",
              "                                                    [key], {});\n",
              "        if (!dataTable) return;\n",
              "\n",
              "        const docLinkHtml = 'Like what you see? Visit the ' +\n",
              "          '<a target=\"_blank\" href=https://colab.research.google.com/notebooks/data_table.ipynb>data table notebook</a>'\n",
              "          + ' to learn more about interactive tables.';\n",
              "        element.innerHTML = '';\n",
              "        dataTable['output_type'] = 'display_data';\n",
              "        await google.colab.output.renderOutput(dataTable, element);\n",
              "        const docLink = document.createElement('div');\n",
              "        docLink.innerHTML = docLinkHtml;\n",
              "        element.appendChild(docLink);\n",
              "      }\n",
              "    </script>\n",
              "  </div>\n",
              "\n",
              "\n",
              "<div id=\"df-4e98da0b-a3e6-47a5-8376-037b7b239ce1\">\n",
              "  <button class=\"colab-df-quickchart\" onclick=\"quickchart('df-4e98da0b-a3e6-47a5-8376-037b7b239ce1')\"\n",
              "            title=\"Suggest charts.\"\n",
              "            style=\"display:none;\">\n",
              "\n",
              "<svg xmlns=\"http://www.w3.org/2000/svg\" height=\"24px\"viewBox=\"0 0 24 24\"\n",
              "     width=\"24px\">\n",
              "    <g>\n",
              "        <path d=\"M19 3H5c-1.1 0-2 .9-2 2v14c0 1.1.9 2 2 2h14c1.1 0 2-.9 2-2V5c0-1.1-.9-2-2-2zM9 17H7v-7h2v7zm4 0h-2V7h2v10zm4 0h-2v-4h2v4z\"/>\n",
              "    </g>\n",
              "</svg>\n",
              "  </button>\n",
              "\n",
              "<style>\n",
              "  .colab-df-quickchart {\n",
              "      --bg-color: #E8F0FE;\n",
              "      --fill-color: #1967D2;\n",
              "      --hover-bg-color: #E2EBFA;\n",
              "      --hover-fill-color: #174EA6;\n",
              "      --disabled-fill-color: #AAA;\n",
              "      --disabled-bg-color: #DDD;\n",
              "  }\n",
              "\n",
              "  [theme=dark] .colab-df-quickchart {\n",
              "      --bg-color: #3B4455;\n",
              "      --fill-color: #D2E3FC;\n",
              "      --hover-bg-color: #434B5C;\n",
              "      --hover-fill-color: #FFFFFF;\n",
              "      --disabled-bg-color: #3B4455;\n",
              "      --disabled-fill-color: #666;\n",
              "  }\n",
              "\n",
              "  .colab-df-quickchart {\n",
              "    background-color: var(--bg-color);\n",
              "    border: none;\n",
              "    border-radius: 50%;\n",
              "    cursor: pointer;\n",
              "    display: none;\n",
              "    fill: var(--fill-color);\n",
              "    height: 32px;\n",
              "    padding: 0;\n",
              "    width: 32px;\n",
              "  }\n",
              "\n",
              "  .colab-df-quickchart:hover {\n",
              "    background-color: var(--hover-bg-color);\n",
              "    box-shadow: 0 1px 2px rgba(60, 64, 67, 0.3), 0 1px 3px 1px rgba(60, 64, 67, 0.15);\n",
              "    fill: var(--button-hover-fill-color);\n",
              "  }\n",
              "\n",
              "  .colab-df-quickchart-complete:disabled,\n",
              "  .colab-df-quickchart-complete:disabled:hover {\n",
              "    background-color: var(--disabled-bg-color);\n",
              "    fill: var(--disabled-fill-color);\n",
              "    box-shadow: none;\n",
              "  }\n",
              "\n",
              "  .colab-df-spinner {\n",
              "    border: 2px solid var(--fill-color);\n",
              "    border-color: transparent;\n",
              "    border-bottom-color: var(--fill-color);\n",
              "    animation:\n",
              "      spin 1s steps(1) infinite;\n",
              "  }\n",
              "\n",
              "  @keyframes spin {\n",
              "    0% {\n",
              "      border-color: transparent;\n",
              "      border-bottom-color: var(--fill-color);\n",
              "      border-left-color: var(--fill-color);\n",
              "    }\n",
              "    20% {\n",
              "      border-color: transparent;\n",
              "      border-left-color: var(--fill-color);\n",
              "      border-top-color: var(--fill-color);\n",
              "    }\n",
              "    30% {\n",
              "      border-color: transparent;\n",
              "      border-left-color: var(--fill-color);\n",
              "      border-top-color: var(--fill-color);\n",
              "      border-right-color: var(--fill-color);\n",
              "    }\n",
              "    40% {\n",
              "      border-color: transparent;\n",
              "      border-right-color: var(--fill-color);\n",
              "      border-top-color: var(--fill-color);\n",
              "    }\n",
              "    60% {\n",
              "      border-color: transparent;\n",
              "      border-right-color: var(--fill-color);\n",
              "    }\n",
              "    80% {\n",
              "      border-color: transparent;\n",
              "      border-right-color: var(--fill-color);\n",
              "      border-bottom-color: var(--fill-color);\n",
              "    }\n",
              "    90% {\n",
              "      border-color: transparent;\n",
              "      border-bottom-color: var(--fill-color);\n",
              "    }\n",
              "  }\n",
              "</style>\n",
              "\n",
              "  <script>\n",
              "    async function quickchart(key) {\n",
              "      const quickchartButtonEl =\n",
              "        document.querySelector('#' + key + ' button');\n",
              "      quickchartButtonEl.disabled = true;  // To prevent multiple clicks.\n",
              "      quickchartButtonEl.classList.add('colab-df-spinner');\n",
              "      try {\n",
              "        const charts = await google.colab.kernel.invokeFunction(\n",
              "            'suggestCharts', [key], {});\n",
              "      } catch (error) {\n",
              "        console.error('Error during call to suggestCharts:', error);\n",
              "      }\n",
              "      quickchartButtonEl.classList.remove('colab-df-spinner');\n",
              "      quickchartButtonEl.classList.add('colab-df-quickchart-complete');\n",
              "    }\n",
              "    (() => {\n",
              "      let quickchartButtonEl =\n",
              "        document.querySelector('#df-4e98da0b-a3e6-47a5-8376-037b7b239ce1 button');\n",
              "      quickchartButtonEl.style.display =\n",
              "        google.colab.kernel.accessAllowed ? 'block' : 'none';\n",
              "    })();\n",
              "  </script>\n",
              "</div>\n",
              "    </div>\n",
              "  </div>\n"
            ]
          },
          "metadata": {},
          "execution_count": 10
        }
      ],
      "source": [
        "case_data=full_data.pivot(columns='geo_location',values = 'new_adm_7day_total_per100k')\n",
        "case_data.head()"
      ]
    },
    {
      "cell_type": "code",
      "execution_count": 11,
      "metadata": {
        "execution": {
          "iopub.execute_input": "2023-09-02T14:21:52.902904Z",
          "iopub.status.busy": "2023-09-02T14:21:52.902521Z",
          "iopub.status.idle": "2023-09-02T14:21:52.908807Z",
          "shell.execute_reply": "2023-09-02T14:21:52.907490Z",
          "shell.execute_reply.started": "2023-09-02T14:21:52.902869Z"
        },
        "id": "PTjYbY54LBea"
      },
      "outputs": [],
      "source": [
        "us_data=case_data['USA']"
      ]
    },
    {
      "cell_type": "code",
      "execution_count": 12,
      "metadata": {
        "execution": {
          "iopub.execute_input": "2023-09-02T14:21:52.911044Z",
          "iopub.status.busy": "2023-09-02T14:21:52.910182Z",
          "iopub.status.idle": "2023-09-02T14:21:52.926501Z",
          "shell.execute_reply": "2023-09-02T14:21:52.925098Z",
          "shell.execute_reply.started": "2023-09-02T14:21:52.910992Z"
        },
        "colab": {
          "base_uri": "https://localhost:8080/"
        },
        "id": "pDllwQ51LBea",
        "outputId": "4974a4c5-5c4b-431b-b561-6714ae82ab85"
      },
      "outputs": [
        {
          "output_type": "execute_result",
          "data": {
            "text/plain": [
              "week\n",
              "2020-08-08    9.531972\n",
              "2020-08-15    9.010601\n",
              "2020-08-22    8.864520\n",
              "2020-08-29    8.496458\n",
              "2020-09-05    7.974183\n",
              "Name: USA, dtype: float64"
            ]
          },
          "metadata": {},
          "execution_count": 12
        }
      ],
      "source": [
        "us_data.head()"
      ]
    },
    {
      "cell_type": "code",
      "execution_count": 13,
      "metadata": {
        "colab": {
          "base_uri": "https://localhost:8080/"
        },
        "id": "Enj8Z3GzLBea",
        "outputId": "a2c4cce4-27a5-45fd-e25d-8ea74a1f6d8b"
      },
      "outputs": [
        {
          "output_type": "execute_result",
          "data": {
            "text/plain": [
              "week\n",
              "2023-07-22    2.427947\n",
              "2023-07-29    2.734866\n",
              "2023-08-05    3.148710\n",
              "2023-08-12    3.818873\n",
              "2023-08-19    4.538131\n",
              "Name: USA, dtype: float64"
            ]
          },
          "metadata": {},
          "execution_count": 13
        }
      ],
      "source": [
        "us_data.tail()"
      ]
    },
    {
      "cell_type": "markdown",
      "metadata": {
        "id": "zjBtlPkhLBeb"
      },
      "source": [
        "#### Understanding our timeseries"
      ]
    },
    {
      "cell_type": "code",
      "execution_count": 143,
      "metadata": {
        "execution": {
          "iopub.execute_input": "2023-09-02T14:21:52.929722Z",
          "iopub.status.busy": "2023-09-02T14:21:52.929173Z",
          "iopub.status.idle": "2023-09-02T14:21:53.413447Z",
          "shell.execute_reply": "2023-09-02T14:21:53.412430Z",
          "shell.execute_reply.started": "2023-09-02T14:21:52.929672Z"
        },
        "colab": {
          "base_uri": "https://localhost:8080/",
          "height": 631
        },
        "id": "H5Hv7ybgLBeb",
        "outputId": "043d196b-495d-42e1-80ff-57dd9bc27ace"
      },
      "outputs": [
        {
          "output_type": "display_data",
          "data": {
            "text/plain": [
              "<Figure size 1600x800 with 1 Axes>"
            ],
            "image/png": "[encoded data removed]"
          },
          "metadata": {}
        }
      ],
      "source": [
        "fig, ax = plt.subplots(figsize=(16,8))\n",
        "ax.plot(us_data)\n",
        "fig.autofmt_xdate()"
      ]
    },
    {
      "cell_type": "code",
      "execution_count": 15,
      "metadata": {
        "execution": {
          "iopub.execute_input": "2023-09-02T14:21:53.415483Z",
          "iopub.status.busy": "2023-09-02T14:21:53.414636Z",
          "iopub.status.idle": "2023-09-02T14:21:54.256361Z",
          "shell.execute_reply": "2023-09-02T14:21:54.255060Z",
          "shell.execute_reply.started": "2023-09-02T14:21:53.415430Z"
        },
        "id": "uf3peehSLBeb"
      },
      "outputs": [],
      "source": [
        "from statsmodels.tsa.seasonal import STL\n",
        "from statsmodels.tsa.stattools import adfuller\n",
        "from statsmodels.graphics.tsaplots import plot_acf, plot_pacf"
      ]
    },
    {
      "cell_type": "code",
      "execution_count": 16,
      "metadata": {
        "execution": {
          "iopub.execute_input": "2023-09-02T14:24:05.705113Z",
          "iopub.status.busy": "2023-09-02T14:24:05.703931Z",
          "iopub.status.idle": "2023-09-02T14:24:05.721836Z",
          "shell.execute_reply": "2023-09-02T14:24:05.720998Z",
          "shell.execute_reply.started": "2023-09-02T14:24:05.705064Z"
        },
        "colab": {
          "base_uri": "https://localhost:8080/",
          "height": 451
        },
        "id": "cpLnrUefLBeb",
        "outputId": "92807d0e-c97a-4fd6-e5bb-c887c54bb6a2"
      },
      "outputs": [
        {
          "output_type": "execute_result",
          "data": {
            "text/plain": [
              "[<matplotlib.lines.Line2D at 0x795d9dc3d6c0>]"
            ]
          },
          "metadata": {},
          "execution_count": 16
        },
        {
          "output_type": "display_data",
          "data": {
            "text/plain": [
              "<Figure size 640x480 with 1 Axes>"
            ],
            "image/png": "[encoded data removed]"
          },
          "metadata": {}
        }
      ],
      "source": [
        "diff_data= us_data.diff()[1:]\n",
        "plt.plot(diff_data)"
      ]
    },
    {
      "cell_type": "code",
      "execution_count": 17,
      "metadata": {
        "colab": {
          "base_uri": "https://localhost:8080/"
        },
        "id": "s5NSFBU2LBeb",
        "outputId": "1a3b6cf9-1762-481d-cb8e-27beb7aa11fe"
      },
      "outputs": [
        {
          "output_type": "stream",
          "name": "stdout",
          "text": [
            "ADF Statistic: -5.319087513227659\n",
            "p-value: 4.998555391670087e-06\n"
          ]
        }
      ],
      "source": [
        "ad_fuller_result = adfuller(diff_data)\n",
        "print(f'ADF Statistic: {ad_fuller_result[0]}')\n",
        "print(f'p-value: {ad_fuller_result[1]}')"
      ]
    },
    {
      "cell_type": "code",
      "execution_count": 18,
      "metadata": {
        "execution": {
          "iopub.execute_input": "2023-09-02T14:23:47.307696Z",
          "iopub.status.busy": "2023-09-02T14:23:47.307250Z",
          "iopub.status.idle": "2023-09-02T14:23:47.703006Z",
          "shell.execute_reply": "2023-09-02T14:23:47.701641Z",
          "shell.execute_reply.started": "2023-09-02T14:23:47.307662Z"
        },
        "colab": {
          "base_uri": "https://localhost:8080/",
          "height": 452
        },
        "id": "6lIZ9e12LBec",
        "outputId": "25aa24cd-a0a7-4c39-dacd-448377a2288d"
      },
      "outputs": [
        {
          "output_type": "display_data",
          "data": {
            "text/plain": [
              "<Figure size 640x480 with 1 Axes>"
            ],
            "image/png": "[encoded data removed]"
          },
          "metadata": {}
        }
      ],
      "source": [
        "plot_acf(diff_data, lags=20);"
      ]
    },
    {
      "cell_type": "code",
      "execution_count": 19,
      "metadata": {
        "execution": {
          "iopub.execute_input": "2023-09-02T14:23:51.357134Z",
          "iopub.status.busy": "2023-09-02T14:23:51.356701Z",
          "iopub.status.idle": "2023-09-02T14:23:52.041436Z",
          "shell.execute_reply": "2023-09-02T14:23:52.040217Z",
          "shell.execute_reply.started": "2023-09-02T14:23:51.357098Z"
        },
        "colab": {
          "base_uri": "https://localhost:8080/",
          "height": 452
        },
        "id": "bQDvSv07LBec",
        "outputId": "a06ce5e6-4ea7-4244-b5a3-a3b630951dc3"
      },
      "outputs": [
        {
          "output_type": "display_data",
          "data": {
            "text/plain": [
              "<Figure size 640x480 with 1 Axes>"
            ],
            "image/png": "[encoded data removed]"
          },
          "metadata": {}
        }
      ],
      "source": [
        "plot_pacf(diff_data, lags = 20, method = 'ywm');"
      ]
    },
    {
      "cell_type": "markdown",
      "metadata": {
        "id": "lU6vA98cLBec"
      },
      "source": [
        "#### Format the data"
      ]
    },
    {
      "cell_type": "code",
      "execution_count": 108,
      "metadata": {
        "colab": {
          "base_uri": "https://localhost:8080/"
        },
        "id": "Vcqx2PqpLBed",
        "outputId": "fb697b2e-937c-44af-f259-4dc674a3bf60"
      },
      "outputs": [
        {
          "output_type": "execute_result",
          "data": {
            "text/plain": [
              "week\n",
              "2023-03-11    6.077547\n",
              "2023-03-18    5.462805\n",
              "2023-03-25    5.172451\n",
              "2023-04-01    4.751980\n",
              "2023-04-08    4.340244\n",
              "2023-04-15    3.984230\n",
              "2023-04-22    3.550507\n",
              "2023-04-29    3.060761\n",
              "2023-05-06    2.918897\n",
              "2023-05-13    2.801129\n",
              "2023-05-20    2.531257\n",
              "2023-05-27    2.348431\n",
              "2023-06-03    2.230964\n",
              "2023-06-10    2.083378\n",
              "2023-06-17    1.997537\n",
              "2023-06-24    1.902057\n",
              "2023-07-01    1.951755\n",
              "2023-07-08    1.946032\n",
              "2023-07-15    2.162291\n",
              "2023-07-22    2.427947\n",
              "2023-07-29    2.734866\n",
              "2023-08-05    3.148710\n",
              "2023-08-12    3.818873\n",
              "2023-08-19    4.538131\n",
              "Name: USA, dtype: float64"
            ]
          },
          "metadata": {},
          "execution_count": 108
        }
      ],
      "source": [
        "us_data.tail(24)"
      ]
    },
    {
      "cell_type": "code",
      "execution_count": 110,
      "metadata": {
        "id": "2SNtfpkJLBed"
      },
      "outputs": [],
      "source": [
        "train_stop='2023-03-11'\n",
        "test_start='2023-03-18'\n",
        "test_stop='2023-08-19'"
      ]
    },
    {
      "cell_type": "code",
      "execution_count": 111,
      "metadata": {
        "execution": {
          "iopub.execute_input": "2023-09-02T14:51:54.330429Z",
          "iopub.status.busy": "2023-09-02T14:51:54.329089Z",
          "iopub.status.idle": "2023-09-02T14:51:54.342837Z",
          "shell.execute_reply": "2023-09-02T14:51:54.341257Z",
          "shell.execute_reply.started": "2023-09-02T14:51:54.330361Z"
        },
        "colab": {
          "base_uri": "https://localhost:8080/"
        },
        "id": "n2APmiT9LBed",
        "outputId": "7058cd44-723a-4994-bdf4-eb6acea68579"
      },
      "outputs": [
        {
          "output_type": "stream",
          "name": "stdout",
          "text": [
            "week\n",
            "2020-08-08    9.531972\n",
            "2020-08-15    9.010601\n",
            "2020-08-22    8.864520\n",
            "2020-08-29    8.496458\n",
            "2020-09-05    7.974183\n",
            "Name: USA, dtype: float64\n",
            "week\n",
            "2023-02-11    7.943762\n",
            "2023-02-18    7.658529\n",
            "2023-02-25    7.231130\n",
            "2023-03-04    6.729638\n",
            "2023-03-11    6.077547\n",
            "Name: USA, dtype: float64\n",
            "week\n",
            "2023-03-18    5.462805\n",
            "2023-03-25    5.172451\n",
            "2023-04-01    4.751980\n",
            "2023-04-08    4.340244\n",
            "2023-04-15    3.984230\n",
            "Name: USA, dtype: float64\n"
          ]
        }
      ],
      "source": [
        "train=us_data[:train_stop]\n",
        "test=us_data[test_start:test_stop]\n",
        "print(train.head())\n",
        "print(train.tail())\n",
        "print(test.head())"
      ]
    },
    {
      "cell_type": "markdown",
      "metadata": {
        "id": "8m_ae6t0LBed"
      },
      "source": [
        "### Model building and forecast"
      ]
    },
    {
      "cell_type": "code",
      "execution_count": 25,
      "metadata": {
        "execution": {
          "iopub.execute_input": "2023-09-02T14:24:42.334005Z",
          "iopub.status.busy": "2023-09-02T14:24:42.333530Z",
          "iopub.status.idle": "2023-09-02T14:24:42.340388Z",
          "shell.execute_reply": "2023-09-02T14:24:42.338524Z",
          "shell.execute_reply.started": "2023-09-02T14:24:42.333965Z"
        },
        "id": "7PLdzgQELBee"
      },
      "outputs": [],
      "source": [
        "from statsmodels.tsa.statespace.sarimax import SARIMAX"
      ]
    },
    {
      "cell_type": "code",
      "execution_count": 144,
      "metadata": {
        "execution": {
          "iopub.execute_input": "2023-09-02T14:24:48.456333Z",
          "iopub.status.busy": "2023-09-02T14:24:48.455892Z",
          "iopub.status.idle": "2023-09-02T14:24:48.466466Z",
          "shell.execute_reply": "2023-09-02T14:24:48.465231Z",
          "shell.execute_reply.started": "2023-09-02T14:24:48.456275Z"
        },
        "id": "HRTGGyKCLBee"
      },
      "outputs": [],
      "source": [
        "my_order = (3,1,0)\n",
        "my_seasonal_order = (2,0,0,10)"
      ]
    },
    {
      "cell_type": "markdown",
      "source": [
        "Format the training set so it doesn't throw errors"
      ],
      "metadata": {
        "id": "_I0QkGXN3Yzk"
      }
    },
    {
      "cell_type": "code",
      "source": [
        "train=train.reset_index(drop=True)\n",
        "train"
      ],
      "metadata": {
        "colab": {
          "base_uri": "https://localhost:8080/"
        },
        "id": "9PHln0F63RLk",
        "outputId": "c6abf6e6-5fce-4749-e920-21e8ccb1f727"
      },
      "execution_count": 145,
      "outputs": [
        {
          "output_type": "execute_result",
          "data": {
            "text/plain": [
              "0      9.531972\n",
              "1      9.010601\n",
              "2      8.864520\n",
              "3      8.496458\n",
              "4      7.974183\n",
              "         ...   \n",
              "131    7.943762\n",
              "132    7.658529\n",
              "133    7.231130\n",
              "134    6.729638\n",
              "135    6.077547\n",
              "Name: USA, Length: 136, dtype: float64"
            ]
          },
          "metadata": {},
          "execution_count": 145
        }
      ]
    },
    {
      "cell_type": "code",
      "execution_count": 146,
      "metadata": {
        "execution": {
          "iopub.execute_input": "2023-09-02T14:53:02.416521Z",
          "iopub.status.busy": "2023-09-02T14:53:02.416050Z",
          "iopub.status.idle": "2023-09-02T14:53:41.205155Z",
          "shell.execute_reply": "2023-09-02T14:53:41.203826Z",
          "shell.execute_reply.started": "2023-09-02T14:53:02.416481Z"
        },
        "id": "EC9K9guKLBee"
      },
      "outputs": [],
      "source": [
        "model=SARIMAX(train, order= my_order, seasonal_order=my_seasonal_order, simple_differencing = False)\n",
        "SARIMA_model=model.fit(disp=False)"
      ]
    },
    {
      "cell_type": "code",
      "execution_count": 147,
      "metadata": {
        "colab": {
          "base_uri": "https://localhost:8080/"
        },
        "id": "HaQmePMgLBee",
        "outputId": "502551c1-320b-480d-a73e-9de891c3fd68"
      },
      "outputs": [
        {
          "output_type": "stream",
          "name": "stdout",
          "text": [
            "                                     SARIMAX Results                                      \n",
            "==========================================================================================\n",
            "Dep. Variable:                                USA   No. Observations:                  136\n",
            "Model:             SARIMAX(3, 1, 0)x(2, 0, 0, 10)   Log Likelihood                -218.571\n",
            "Date:                            Sun, 03 Sep 2023   AIC                            449.142\n",
            "Time:                                    03:04:01   BIC                            466.574\n",
            "Sample:                                         0   HQIC                           456.226\n",
            "                                            - 136                                         \n",
            "Covariance Type:                              opg                                         \n",
            "==============================================================================\n",
            "                 coef    std err          z      P>|z|      [0.025      0.975]\n",
            "------------------------------------------------------------------------------\n",
            "ar.L1          1.2849      0.082     15.707      0.000       1.125       1.445\n",
            "ar.L2         -0.7061      0.092     -7.676      0.000      -0.886      -0.526\n",
            "ar.L3          0.1638      0.057      2.899      0.004       0.053       0.275\n",
            "ar.S.L10      -0.0762      0.154     -0.494      0.622      -0.379       0.226\n",
            "ar.S.L20       0.1226      0.147      0.834      0.404      -0.166       0.411\n",
            "sigma2         1.4695      0.105     14.049      0.000       1.264       1.674\n",
            "===================================================================================\n",
            "Ljung-Box (L1) (Q):                   0.13   Jarque-Bera (JB):              1398.94\n",
            "Prob(Q):                              0.72   Prob(JB):                         0.00\n",
            "Heteroskedasticity (H):               0.41   Skew:                             1.72\n",
            "Prob(H) (two-sided):                  0.00   Kurtosis:                        18.39\n",
            "===================================================================================\n",
            "\n",
            "Warnings:\n",
            "[1] Covariance matrix calculated using the outer product of gradients (complex-step).\n"
          ]
        }
      ],
      "source": [
        "print(SARIMA_model.summary())"
      ]
    },
    {
      "cell_type": "code",
      "execution_count": 148,
      "metadata": {
        "colab": {
          "base_uri": "https://localhost:8080/",
          "height": 718
        },
        "id": "9pGGdg62LBee",
        "outputId": "21030b3d-1687-429e-bb7c-6910f206518e"
      },
      "outputs": [
        {
          "output_type": "display_data",
          "data": {
            "text/plain": [
              "<Figure size 1000x800 with 4 Axes>"
            ],
            "image/png": "[encoded data removed]"
          },
          "metadata": {}
        }
      ],
      "source": [
        "SARIMA_model.plot_diagnostics(figsize= (10,8));"
      ]
    },
    {
      "cell_type": "markdown",
      "metadata": {
        "id": "nL_SO2KjLBef"
      },
      "source": [
        "#### Build rolling forecast function"
      ]
    },
    {
      "cell_type": "code",
      "execution_count": 149,
      "metadata": {
        "execution": {
          "iopub.execute_input": "2023-09-02T03:18:21.683468Z",
          "iopub.status.busy": "2023-09-02T03:18:21.682940Z",
          "iopub.status.idle": "2023-09-02T03:18:21.692760Z",
          "shell.execute_reply": "2023-09-02T03:18:21.691467Z",
          "shell.execute_reply.started": "2023-09-02T03:18:21.683431Z"
        },
        "id": "XJuYB-0BLBeg"
      },
      "outputs": [],
      "source": [
        "def rolling_forecast(df: pd.DataFrame , train_len: int, horizon: int, window: int) -> list:\n",
        "\n",
        "    total_len = train_len + horizon\n",
        "\n",
        "    pred_model = []\n",
        "\n",
        "    for i in range(train_len, total_len, window):\n",
        "        model=SARIMAX(df[:i], order= my_order, seasonal_order=my_seasonal_order, simple_differencing = False)\n",
        "        model_fit=model.fit(disp=False)\n",
        "        predictions = model_fit.get_prediction(0,i + window - 1)\n",
        "        oos_predictions=predictions.predicted_mean.iloc[-window:]\n",
        "        pred_model.extend(oos_predictions)\n",
        "\n",
        "    return pred_model"
      ]
    },
    {
      "cell_type": "code",
      "source": [
        "model_data=us_data.reset_index(drop=True)"
      ],
      "metadata": {
        "id": "4KzegADI5hqE"
      },
      "execution_count": 150,
      "outputs": []
    },
    {
      "cell_type": "markdown",
      "source": [
        "Let's predict for the data we have and see how it matches"
      ],
      "metadata": {
        "id": "a4eggwr08G2L"
      }
    },
    {
      "cell_type": "code",
      "source": [
        "train_length = len(train)\n",
        "horizon = len(test)\n",
        "window = 2\n",
        "\n",
        "predictions = rolling_forecast(model_data, train_length, horizon, window)"
      ],
      "metadata": {
        "id": "mjgTs3z_0Q4I"
      },
      "execution_count": 151,
      "outputs": []
    },
    {
      "cell_type": "code",
      "source": [
        "pred= pd.Series(predictions[1:], index=test.index)\n",
        "residuals = pd.Series(test - pred, index=test.index)\n",
        "forecast_df=pd.DataFrame(test)\n",
        "forecast_df['predictions']=pred\n",
        "forecast_df['residuals']= residuals\n",
        "forecast_df=forecast_df.rename(columns ={'USA':'actuals'})"
      ],
      "metadata": {
        "id": "ny7nksQg7T5t"
      },
      "execution_count": 152,
      "outputs": []
    },
    {
      "cell_type": "code",
      "source": [
        "plt.plot(forecast_df['actuals'], 'r-', forecast_df['predictions'],'-g')"
      ],
      "metadata": {
        "colab": {
          "base_uri": "https://localhost:8080/",
          "height": 465
        },
        "id": "zpd-kmov6Jp3",
        "outputId": "076c89b1-3621-458c-94b9-fb18591845b9"
      },
      "execution_count": 153,
      "outputs": [
        {
          "output_type": "execute_result",
          "data": {
            "text/plain": [
              "[<matplotlib.lines.Line2D at 0x795d972ab5b0>,\n",
              " <matplotlib.lines.Line2D at 0x795d9729af80>]"
            ]
          },
          "metadata": {},
          "execution_count": 153
        },
        {
          "output_type": "display_data",
          "data": {
            "text/plain": [
              "<Figure size 640x480 with 1 Axes>"
            ],
            "image/png": "[encoded data removed]"
          },
          "metadata": {}
        }
      ]
    },
    {
      "cell_type": "code",
      "source": [
        "MAE = np.mean(abs(residuals))\n",
        "print('Mean Absolute Error: ', MAE)"
      ],
      "metadata": {
        "colab": {
          "base_uri": "https://localhost:8080/"
        },
        "id": "sTVC4N2Z1QOb",
        "outputId": "0f4fe184-1b4e-4b57-d6c5-4b5e78e85cbd"
      },
      "execution_count": 154,
      "outputs": [
        {
          "output_type": "stream",
          "name": "stdout",
          "text": [
            "Mean Absolute Error:  0.26798774295433436\n"
          ]
        }
      ]
    },
    {
      "cell_type": "code",
      "source": [
        "print('Root Mean Squared Error: ', np.sqrt(np.mean(residuals**2)))"
      ],
      "metadata": {
        "colab": {
          "base_uri": "https://localhost:8080/"
        },
        "id": "IvVXdJ5-y1wF",
        "outputId": "c21e980e-81f8-4244-fded-6a571473d909"
      },
      "execution_count": 155,
      "outputs": [
        {
          "output_type": "stream",
          "name": "stdout",
          "text": [
            "Root Mean Squared Error:  0.3441207557571588\n"
          ]
        }
      ]
    },
    {
      "cell_type": "code",
      "source": [
        "print('Mean Absolute Percent Error: ' , round(np.mean(abs(residuals/test)),4))"
      ],
      "metadata": {
        "colab": {
          "base_uri": "https://localhost:8080/"
        },
        "id": "qtiBxavoyoB9",
        "outputId": "897abcb8-bdc5-4f8d-b166-006d9db6fcc5"
      },
      "execution_count": 156,
      "outputs": [
        {
          "output_type": "stream",
          "name": "stdout",
          "text": [
            "Mean Absolute Percent Error:  0.0922\n"
          ]
        }
      ]
    },
    {
      "cell_type": "code",
      "source": [
        "total_period= pd.date_range(min(us_data.index), periods = len(us_data)+12, freq = 'W')"
      ],
      "metadata": {
        "id": "0rcu4xKO5xpD"
      },
      "execution_count": 157,
      "outputs": []
    },
    {
      "cell_type": "code",
      "source": [
        "train_length = len(train)\n",
        "horizon = len(total_period) -  len(train)\n",
        "window = 2\n",
        "\n",
        "lt_predictions = rolling_forecast(model_data, train_length, horizon, window)"
      ],
      "metadata": {
        "id": "5eA6egjN9Hrz"
      },
      "execution_count": 158,
      "outputs": []
    },
    {
      "cell_type": "code",
      "source": [
        "lt_pred= pd.Series(lt_predictions, index=total_period[-(horizon)-1:])"
      ],
      "metadata": {
        "id": "f2ovgJF09Wm-"
      },
      "execution_count": 159,
      "outputs": []
    },
    {
      "cell_type": "code",
      "source": [
        "plt.figure(figsize=(16,8))\n",
        "plt.plot(lt_pred, 'b-')"
      ],
      "metadata": {
        "colab": {
          "base_uri": "https://localhost:8080/",
          "height": 693
        },
        "id": "b45mejEi-adl",
        "outputId": "1653a63a-81b8-4573-8105-c9fd2726b585"
      },
      "execution_count": 160,
      "outputs": [
        {
          "output_type": "execute_result",
          "data": {
            "text/plain": [
              "[<matplotlib.lines.Line2D at 0x795d9725bc10>]"
            ]
          },
          "metadata": {},
          "execution_count": 160
        },
        {
          "output_type": "display_data",
          "data": {
            "text/plain": [
              "<Figure size 1600x800 with 1 Axes>"
            ],
            "image/png": "[encoded data removed]"
          },
          "metadata": {}
        }
      ]
    }
  ],
  "metadata": {
    "kernelspec": {
      "display_name": "Python 3 (ipykernel)",
      "language": "python",
      "name": "python3"
    },
    "language_info": {
      "codemirror_mode": {
        "name": "ipython",
        "version": 3
      },
      "file_extension": ".py",
      "mimetype": "text/x-python",
      "name": "python",
      "nbconvert_exporter": "python",
      "pygments_lexer": "ipython3",
      "version": "3.9.5"
    },
    "colab": {
      "provenance": [],
      "include_colab_link": true
    }
  },
  "nbformat": 4,
  "nbformat_minor": 0
}