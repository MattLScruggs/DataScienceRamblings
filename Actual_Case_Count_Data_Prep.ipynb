{
 "cells": [
  {
   "cell_type": "markdown",
   "id": "d37dc222",
   "metadata": {},
   "source": [
    "# How Many Covid-19 Cases Are Actually Out There?"
   ]
  },
  {
   "cell_type": "markdown",
   "id": "51bcdcee",
   "metadata": {},
   "source": [
    "## Data Collection and Cleaning"
   ]
  },
  {
   "cell_type": "markdown",
   "id": "40be2dc7",
   "metadata": {},
   "source": [
    "#### Because of home testing, closing of PCR sites, and less sequencing, epidemiologists believe official Covid-19 case counts are very likely to be under-reported. \n",
    "\n",
    "#### Can we utilize additional data sources and machine learning to better predict what the actual case count is likely to be?"
   ]
  },
  {
   "cell_type": "code",
   "execution_count": 1,
   "id": "814f8da1",
   "metadata": {},
   "outputs": [],
   "source": [
    "import pandas as pd\n",
    "import numpy as np\n",
    "from pandas.io.json import json_normalize\n",
    "import json\n",
    "import requests"
   ]
  },
  {
   "cell_type": "markdown",
   "id": "e5b2704b",
   "metadata": {},
   "source": [
    "#### Warning: this notebook will not be the most interesting thing you read today.\n",
    "\n",
    "I'm using hosptialization data and wastewater data from the CDC, variant prevalence from GISAID, and daily case, death, and testing totals by state from Johns Hopkins University. This notebook is about pulling together all the data from those seperate data sources and condensing it into a dataframe for predictive analytics.\n",
    "\n",
    "The sources for the data are linked on my repo's main site [here](https://mattlscruggs.github.io/DataScienceRamblings/). I mention it below in the code, but the CDC's API for pulling data from their site limits you to 1000 rows. Until I can figure out a way around that, I'm reading the data from a flat file on my local machine (as you can probably tell from the path in the code chunk below) and updating manually, but of course my preference would be to read directly from a link for maximum reproducibility. \n",
    "\n",
    "The enventual goal is to be able to determine the relationship between our dependent variable (US covid-19 cases per day) and our independent variables (all the other stuff I just mentioned). But first, that requires a clean, properly formatted, tidy data set."
   ]
  },
  {
   "cell_type": "code",
   "execution_count": 2,
   "id": "12fc81df",
   "metadata": {},
   "outputs": [],
   "source": [
    "hosp_url=\"C:/Users/matth/OneDrive/Documents/Personal Docs/Data Science/Science projects/Project wildfire/actual case calculator/COVID-19_Reported_Patient_Impact_and_Hospital_Capacity_by_State_Timeseries.csv\"\n",
    "ww_1_url=\"C:/Users/matth/OneDrive/Documents/Personal Docs/Data Science/Science projects/Project wildfire/actual case calculator/NWSS_Public_SARS-CoV-2_Concentration_in_Wastewater_Data.csv\"\n",
    "ww_2_url=\"C:/Users/matth/OneDrive/Documents/Personal Docs/Data Science/Science projects/Project wildfire/actual case calculator/NWSS_Public_SARS-CoV-2_Wastewater_Metric_Data.csv\"\n",
    "testing_url=\"https://raw.githubusercontent.com/govex/COVID-19/master/data_tables/testing_data/time_series_covid19_US.csv\"\n",
    "variant_url=\"https://raw.githubusercontent.com/hodcroftlab/covariants/master/cluster_tables/USAClusters_data.json\"\n",
    "cases_url=\"https://raw.githubusercontent.com/CSSEGISandData/COVID-19/master/csse_covid_19_data/csse_covid_19_time_series/time_series_covid19_confirmed_US.csv\"\n",
    "deaths_url=\"https://raw.githubusercontent.com/CSSEGISandData/COVID-19/master/csse_covid_19_data/csse_covid_19_time_series/time_series_covid19_deaths_US.csv\"\n",
    "vacc_url=\"C:/Users/matth/OneDrive/Documents/Personal Docs/Data Science/Science projects/Project wildfire/actual case calculator/COVID-19_Vaccinations_in_the_United_States_County.csv\"\n",
    "states_lookup=\"C:/Users/matth/OneDrive/Documents/Personal Docs/Data Science/Science projects/Project wildfire/states.csv\""
   ]
  },
  {
   "cell_type": "markdown",
   "id": "7fb9e617",
   "metadata": {},
   "source": [
    "Use this file as a key to make sure we're only getting states we want."
   ]
  },
  {
   "cell_type": "code",
   "execution_count": 3,
   "id": "1f5baef3",
   "metadata": {},
   "outputs": [],
   "source": [
    "states=pd.read_csv(states_lookup, names=['state_name','state_abbv'])"
   ]
  },
  {
   "cell_type": "code",
   "execution_count": 4,
   "id": "146bd206",
   "metadata": {},
   "outputs": [],
   "source": [
    "state_names=states['state_name'].unique().tolist()"
   ]
  },
  {
   "cell_type": "code",
   "execution_count": 5,
   "id": "6ff04b4e",
   "metadata": {},
   "outputs": [],
   "source": [
    "state_abbs=states['state_abbv'].unique().tolist()"
   ]
  },
  {
   "cell_type": "markdown",
   "id": "9592f443",
   "metadata": {},
   "source": [
    "This final data set is going to be measured at at the state/day level. This gives us a bit more granularity and robustness rather than inferring a national trend by day, since we have 50x the data  points to refer to."
   ]
  },
  {
   "cell_type": "code",
   "execution_count": 6,
   "id": "8a520ff6",
   "metadata": {},
   "outputs": [],
   "source": [
    "pd.set_option('display.max_rows', 900)"
   ]
  },
  {
   "cell_type": "markdown",
   "id": "3f7287f0",
   "metadata": {},
   "source": [
    "#### Starting with the variant data\n",
    "This data set tracks the percentages of sequences belonging to each variant. They've identified a lot of variants, so I'm narrowing it down to the major ones and creating an \"other\" category."
   ]
  },
  {
   "cell_type": "code",
   "execution_count": 7,
   "id": "dbd2a0d6",
   "metadata": {},
   "outputs": [],
   "source": [
    "variant_raw=json.loads(requests.get(variant_url).text)"
   ]
  },
  {
   "cell_type": "code",
   "execution_count": 8,
   "id": "1b509315",
   "metadata": {},
   "outputs": [],
   "source": [
    "state_list=pd.DataFrame.from_dict(variant_raw['countries'], orient='index').index.to_list()"
   ]
  },
  {
   "cell_type": "code",
   "execution_count": 9,
   "id": "efe6b1d8",
   "metadata": {},
   "outputs": [],
   "source": [
    "out=pd.DataFrame()\n",
    "for state in state_list:   \n",
    "    tmp=pd.DataFrame.from_dict(variant_raw['countries'][state])\n",
    "    tmp['state']=state\n",
    "    out=pd.concat([out,tmp], ignore_index=True)"
   ]
  },
  {
   "cell_type": "markdown",
   "id": "501620f1",
   "metadata": {},
   "source": [
    "Here I'm dividing the number of sequenced cases for each variant by the total sequenced on that day."
   ]
  },
  {
   "cell_type": "code",
   "execution_count": 10,
   "id": "fcd761d2",
   "metadata": {},
   "outputs": [],
   "source": [
    "out['alpha_per']=out['20I (Alpha, V1)']/out['total_sequences']\n",
    "out['beta_per']=out['20H (Beta, V2)']/out['total_sequences']\n",
    "out['gamma_per']=out['20J (Gamma, V3)']/out['total_sequences']\n",
    "out['delta_per']=(out['21A (Delta)']+out['21I (Delta)']+out['21J (Delta)'])/out['total_sequences']\n",
    "out['omicron_per']=(out['21K (Omicron)']+out['21L (Omicron)'])/out['total_sequences']\n",
    "out['kappa_per']=out['21B (Kappa)']/out['total_sequences']\n",
    "out['eta_per']=out['21D (Eta)']/out['total_sequences']\n",
    "out['iota_per']=out['21F (Iota)']/out['total_sequences']\n",
    "out['lambda_per']=out['21G (Lambda)']/out['total_sequences']\n",
    "out['mu_per']=out['21H (Mu)']/out['total_sequences']\n",
    "out['eu1_per']=out['20E (EU1)']/out['total_sequences']\n",
    "out['epsilon_per']=out['21C (Epsilon)']/out['total_sequences']\n",
    "out['week']=pd.to_datetime(out['week'])\n",
    "out['other_per']=1-(out['alpha_per']+out['beta_per']+out['gamma_per']+out['delta_per']+out['omicron_per']+out['kappa_per']+\\\n",
    "               out['eta_per']+out['iota_per']+out['lambda_per']+out['mu_per']+out['eu1_per']+out['epsilon_per'])"
   ]
  },
  {
   "cell_type": "code",
   "execution_count": 11,
   "id": "d9b6dc7d",
   "metadata": {},
   "outputs": [],
   "source": [
    "variant_df=out[['week','state','alpha_per','beta_per','gamma_per', 'delta_per',\n",
    "       'omicron_per', 'kappa_per', 'eta_per', 'iota_per', 'lambda_per',\n",
    "       'mu_per', 'eu1_per', 'epsilon_per','other_per']].sort_values(by='week').fillna(0).replace([np.inf, -np.inf],0).reset_index(drop=True)"
   ]
  },
  {
   "cell_type": "markdown",
   "id": "e15e1de0",
   "metadata": {},
   "source": [
    "I'm selecting the columns I need above, and below I'm adding a \"month\" and \"year\" variable. The percentages are calculated every two weeks, and that's going to be a pain to join to the other data by date, so I'm averaging the percentages across the months.\n",
    "\n",
    "Also the \"month\" and \"year\" variables are going to be important predictors, since we've seen spikes in December/January (Christmas/New Years), July (July 4th/summer vacation), and August (back to school)."
   ]
  },
  {
   "cell_type": "code",
   "execution_count": 12,
   "id": "1bfe9bfa",
   "metadata": {},
   "outputs": [],
   "source": [
    "variant_df['month']=pd.to_datetime(variant_df['week']).dt.month\n",
    "variant_df['year']=pd.to_datetime(variant_df['week']).dt.year"
   ]
  },
  {
   "cell_type": "code",
   "execution_count": 13,
   "id": "dadb87ea",
   "metadata": {},
   "outputs": [],
   "source": [
    "variant_agg_total=variant_df.groupby(['state','month','year']).mean().reset_index()\n",
    "variant_agg=variant_agg_total[variant_agg_total['state'].isin(state_names)].drop_duplicates()"
   ]
  },
  {
   "cell_type": "markdown",
   "id": "289b2178",
   "metadata": {},
   "source": [
    "#### Final variant dataset"
   ]
  },
  {
   "cell_type": "markdown",
   "id": "65e05cfa",
   "metadata": {},
   "source": [
    "So here's what we have. Each row has a state, month, year, and the respoective percentages for each major strain."
   ]
  },
  {
   "cell_type": "code",
   "execution_count": 14,
   "id": "a1eeffc6",
   "metadata": {},
   "outputs": [
    {
     "name": "stdout",
     "output_type": "stream",
     "text": [
      "(1251, 16)\n"
     ]
    },
    {
     "data": {
      "text/html": [
       "<div>\n",
       "<style scoped>\n",
       "    .dataframe tbody tr th:only-of-type {\n",
       "        vertical-align: middle;\n",
       "    }\n",
       "\n",
       "    .dataframe tbody tr th {\n",
       "        vertical-align: top;\n",
       "    }\n",
       "\n",
       "    .dataframe thead th {\n",
       "        text-align: right;\n",
       "    }\n",
       "</style>\n",
       "<table border=\"1\" class=\"dataframe\">\n",
       "  <thead>\n",
       "    <tr style=\"text-align: right;\">\n",
       "      <th></th>\n",
       "      <th>state</th>\n",
       "      <th>month</th>\n",
       "      <th>year</th>\n",
       "      <th>alpha_per</th>\n",
       "      <th>beta_per</th>\n",
       "      <th>gamma_per</th>\n",
       "      <th>delta_per</th>\n",
       "      <th>omicron_per</th>\n",
       "      <th>kappa_per</th>\n",
       "      <th>eta_per</th>\n",
       "      <th>iota_per</th>\n",
       "      <th>lambda_per</th>\n",
       "      <th>mu_per</th>\n",
       "      <th>eu1_per</th>\n",
       "      <th>epsilon_per</th>\n",
       "      <th>other_per</th>\n",
       "    </tr>\n",
       "  </thead>\n",
       "  <tbody>\n",
       "    <tr>\n",
       "      <th>0</th>\n",
       "      <td>Alabama</td>\n",
       "      <td>1</td>\n",
       "      <td>2021</td>\n",
       "      <td>0.016484</td>\n",
       "      <td>0.000000</td>\n",
       "      <td>0.000000</td>\n",
       "      <td>0.000000</td>\n",
       "      <td>0.000000</td>\n",
       "      <td>0.0</td>\n",
       "      <td>0.0</td>\n",
       "      <td>0.000000</td>\n",
       "      <td>0.000000</td>\n",
       "      <td>0.000000</td>\n",
       "      <td>0.0</td>\n",
       "      <td>0.005495</td>\n",
       "      <td>0.0</td>\n",
       "    </tr>\n",
       "    <tr>\n",
       "      <th>1</th>\n",
       "      <td>Alabama</td>\n",
       "      <td>1</td>\n",
       "      <td>2022</td>\n",
       "      <td>0.000000</td>\n",
       "      <td>0.000000</td>\n",
       "      <td>0.000000</td>\n",
       "      <td>0.004562</td>\n",
       "      <td>0.994526</td>\n",
       "      <td>0.0</td>\n",
       "      <td>0.0</td>\n",
       "      <td>0.000000</td>\n",
       "      <td>0.000000</td>\n",
       "      <td>0.000000</td>\n",
       "      <td>0.0</td>\n",
       "      <td>0.000000</td>\n",
       "      <td>0.0</td>\n",
       "    </tr>\n",
       "    <tr>\n",
       "      <th>2</th>\n",
       "      <td>Alabama</td>\n",
       "      <td>2</td>\n",
       "      <td>2021</td>\n",
       "      <td>0.209973</td>\n",
       "      <td>0.000000</td>\n",
       "      <td>0.000000</td>\n",
       "      <td>0.000000</td>\n",
       "      <td>0.000000</td>\n",
       "      <td>0.0</td>\n",
       "      <td>0.0</td>\n",
       "      <td>0.015131</td>\n",
       "      <td>0.000000</td>\n",
       "      <td>0.000000</td>\n",
       "      <td>0.0</td>\n",
       "      <td>0.030262</td>\n",
       "      <td>0.0</td>\n",
       "    </tr>\n",
       "    <tr>\n",
       "      <th>3</th>\n",
       "      <td>Alabama</td>\n",
       "      <td>2</td>\n",
       "      <td>2022</td>\n",
       "      <td>0.000000</td>\n",
       "      <td>0.000000</td>\n",
       "      <td>0.000000</td>\n",
       "      <td>0.000000</td>\n",
       "      <td>1.000000</td>\n",
       "      <td>0.0</td>\n",
       "      <td>0.0</td>\n",
       "      <td>0.000000</td>\n",
       "      <td>0.000000</td>\n",
       "      <td>0.000000</td>\n",
       "      <td>0.0</td>\n",
       "      <td>0.000000</td>\n",
       "      <td>0.0</td>\n",
       "    </tr>\n",
       "    <tr>\n",
       "      <th>4</th>\n",
       "      <td>Alabama</td>\n",
       "      <td>3</td>\n",
       "      <td>2021</td>\n",
       "      <td>0.567669</td>\n",
       "      <td>0.006865</td>\n",
       "      <td>0.018634</td>\n",
       "      <td>0.000000</td>\n",
       "      <td>0.000000</td>\n",
       "      <td>0.0</td>\n",
       "      <td>0.0</td>\n",
       "      <td>0.024845</td>\n",
       "      <td>0.006865</td>\n",
       "      <td>0.003106</td>\n",
       "      <td>0.0</td>\n",
       "      <td>0.045603</td>\n",
       "      <td>0.0</td>\n",
       "    </tr>\n",
       "  </tbody>\n",
       "</table>\n",
       "</div>"
      ],
      "text/plain": [
       "     state  month  year  alpha_per  beta_per  gamma_per  delta_per  \\\n",
       "0  Alabama      1  2021   0.016484  0.000000   0.000000   0.000000   \n",
       "1  Alabama      1  2022   0.000000  0.000000   0.000000   0.004562   \n",
       "2  Alabama      2  2021   0.209973  0.000000   0.000000   0.000000   \n",
       "3  Alabama      2  2022   0.000000  0.000000   0.000000   0.000000   \n",
       "4  Alabama      3  2021   0.567669  0.006865   0.018634   0.000000   \n",
       "\n",
       "   omicron_per  kappa_per  eta_per  iota_per  lambda_per    mu_per  eu1_per  \\\n",
       "0     0.000000        0.0      0.0  0.000000    0.000000  0.000000      0.0   \n",
       "1     0.994526        0.0      0.0  0.000000    0.000000  0.000000      0.0   \n",
       "2     0.000000        0.0      0.0  0.015131    0.000000  0.000000      0.0   \n",
       "3     1.000000        0.0      0.0  0.000000    0.000000  0.000000      0.0   \n",
       "4     0.000000        0.0      0.0  0.024845    0.006865  0.003106      0.0   \n",
       "\n",
       "   epsilon_per  other_per  \n",
       "0     0.005495        0.0  \n",
       "1     0.000000        0.0  \n",
       "2     0.030262        0.0  \n",
       "3     0.000000        0.0  \n",
       "4     0.045603        0.0  "
      ]
     },
     "execution_count": 14,
     "metadata": {},
     "output_type": "execute_result"
    }
   ],
   "source": [
    "print(variant_agg.shape)\n",
    "variant_agg.head()"
   ]
  },
  {
   "cell_type": "markdown",
   "id": "f5efefa6",
   "metadata": {},
   "source": [
    "#### Now we'll bring in daily case data from John's Hopkins\n",
    "This is at the county level, but we can sum up by state."
   ]
  },
  {
   "cell_type": "code",
   "execution_count": 15,
   "id": "732434ea",
   "metadata": {},
   "outputs": [],
   "source": [
    "cs_wide=pd.read_csv(cases_url)"
   ]
  },
  {
   "cell_type": "code",
   "execution_count": 16,
   "id": "210ef9a1",
   "metadata": {},
   "outputs": [],
   "source": [
    "state_and_date_total=cs_wide.drop(['UID','iso2','iso3','code3','Country_Region','Lat','Long_','Combined_Key'], axis='columns').\\\n",
    "melt(id_vars=['FIPS','Admin2','Province_State'], var_name='date', value_name='cases')"
   ]
  },
  {
   "cell_type": "code",
   "execution_count": 17,
   "id": "57aef75e",
   "metadata": {},
   "outputs": [],
   "source": [
    "state_and_date=state_and_date_total[state_and_date_total['Province_State'].isin(state_names)].drop_duplicates()"
   ]
  },
  {
   "cell_type": "code",
   "execution_count": 18,
   "id": "51424a43",
   "metadata": {},
   "outputs": [],
   "source": [
    "long_cases=state_and_date.drop('FIPS', axis='columns').groupby(['Province_State','date']).sum().reset_index()"
   ]
  },
  {
   "cell_type": "code",
   "execution_count": 19,
   "id": "eefb9bb8",
   "metadata": {},
   "outputs": [],
   "source": [
    "long_cases['date']=pd.to_datetime(long_cases['date'])"
   ]
  },
  {
   "cell_type": "markdown",
   "id": "421f0f4b",
   "metadata": {},
   "source": [
    "Again adding month and year, but also keeping date since we have a continuous sequence of dates from Jan 2020. These dates, states, month, and year will form the backbone of the final dataframe. Everything else will join to them, eventually."
   ]
  },
  {
   "cell_type": "code",
   "execution_count": 20,
   "id": "0b31f8eb",
   "metadata": {},
   "outputs": [],
   "source": [
    "wide_cases=long_cases.sort_values(by='date').pivot(index='date', columns='Province_State',values='cases').diff()"
   ]
  },
  {
   "cell_type": "code",
   "execution_count": 21,
   "id": "20fe10c1",
   "metadata": {},
   "outputs": [],
   "source": [
    "wide_cases_roll=wide_cases.rolling(8, min_periods=1).mean().reset_index()"
   ]
  },
  {
   "cell_type": "markdown",
   "id": "b24567f1",
   "metadata": {},
   "source": [
    "Rolling 7-day new cases, to account for differences in reporting, otherwise the within-value variance is too high"
   ]
  },
  {
   "cell_type": "code",
   "execution_count": 22,
   "id": "530fa863",
   "metadata": {},
   "outputs": [],
   "source": [
    "cases_agg=wide_cases_roll.melt(id_vars='date', value_name='cases').fillna(0).copy()\n",
    "cases_agg.loc[(cases_agg.cases<0),'cases']=0"
   ]
  },
  {
   "cell_type": "code",
   "execution_count": 23,
   "id": "d168375b",
   "metadata": {},
   "outputs": [],
   "source": [
    "cases_agg['month']=pd.to_datetime(cases_agg['date']).dt.month\n",
    "cases_agg['year']=pd.to_datetime(cases_agg['date']).dt.year"
   ]
  },
  {
   "cell_type": "markdown",
   "id": "f0f84a3c",
   "metadata": {},
   "source": [
    "#### Final cases dataset"
   ]
  },
  {
   "cell_type": "markdown",
   "id": "e1cb791f",
   "metadata": {},
   "source": [
    "This one's much smaller, and has just the essential information."
   ]
  },
  {
   "cell_type": "code",
   "execution_count": 24,
   "id": "39f9a4f5",
   "metadata": {},
   "outputs": [
    {
     "data": {
      "text/html": [
       "<div>\n",
       "<style scoped>\n",
       "    .dataframe tbody tr th:only-of-type {\n",
       "        vertical-align: middle;\n",
       "    }\n",
       "\n",
       "    .dataframe tbody tr th {\n",
       "        vertical-align: top;\n",
       "    }\n",
       "\n",
       "    .dataframe thead th {\n",
       "        text-align: right;\n",
       "    }\n",
       "</style>\n",
       "<table border=\"1\" class=\"dataframe\">\n",
       "  <thead>\n",
       "    <tr style=\"text-align: right;\">\n",
       "      <th></th>\n",
       "      <th>date</th>\n",
       "      <th>Province_State</th>\n",
       "      <th>cases</th>\n",
       "      <th>month</th>\n",
       "      <th>year</th>\n",
       "    </tr>\n",
       "  </thead>\n",
       "  <tbody>\n",
       "    <tr>\n",
       "      <th>0</th>\n",
       "      <td>2020-01-22</td>\n",
       "      <td>Alabama</td>\n",
       "      <td>0.0</td>\n",
       "      <td>1</td>\n",
       "      <td>2020</td>\n",
       "    </tr>\n",
       "    <tr>\n",
       "      <th>1</th>\n",
       "      <td>2020-01-23</td>\n",
       "      <td>Alabama</td>\n",
       "      <td>0.0</td>\n",
       "      <td>1</td>\n",
       "      <td>2020</td>\n",
       "    </tr>\n",
       "    <tr>\n",
       "      <th>2</th>\n",
       "      <td>2020-01-24</td>\n",
       "      <td>Alabama</td>\n",
       "      <td>0.0</td>\n",
       "      <td>1</td>\n",
       "      <td>2020</td>\n",
       "    </tr>\n",
       "    <tr>\n",
       "      <th>3</th>\n",
       "      <td>2020-01-25</td>\n",
       "      <td>Alabama</td>\n",
       "      <td>0.0</td>\n",
       "      <td>1</td>\n",
       "      <td>2020</td>\n",
       "    </tr>\n",
       "    <tr>\n",
       "      <th>4</th>\n",
       "      <td>2020-01-26</td>\n",
       "      <td>Alabama</td>\n",
       "      <td>0.0</td>\n",
       "      <td>1</td>\n",
       "      <td>2020</td>\n",
       "    </tr>\n",
       "  </tbody>\n",
       "</table>\n",
       "</div>"
      ],
      "text/plain": [
       "        date Province_State  cases  month  year\n",
       "0 2020-01-22        Alabama    0.0      1  2020\n",
       "1 2020-01-23        Alabama    0.0      1  2020\n",
       "2 2020-01-24        Alabama    0.0      1  2020\n",
       "3 2020-01-25        Alabama    0.0      1  2020\n",
       "4 2020-01-26        Alabama    0.0      1  2020"
      ]
     },
     "execution_count": 24,
     "metadata": {},
     "output_type": "execute_result"
    }
   ],
   "source": [
    "cases_agg.head()"
   ]
  },
  {
   "cell_type": "markdown",
   "id": "365c57cd",
   "metadata": {},
   "source": [
    "#### Now we'll do the exact same procedure for the deaths data. \n",
    "It's also from JHU, and the format is exactly the same as cases, so I'm literally copying the code from above, just pointing it to a different source file and updating the labels to reflect that it's recording deaths from covid."
   ]
  },
  {
   "cell_type": "code",
   "execution_count": 25,
   "id": "9e26de6f",
   "metadata": {},
   "outputs": [],
   "source": [
    "cs_wide=pd.read_csv(deaths_url)"
   ]
  },
  {
   "cell_type": "code",
   "execution_count": 26,
   "id": "3ea291d4",
   "metadata": {},
   "outputs": [],
   "source": [
    "state_and_date=cs_wide.drop(['UID','iso2','iso3','code3','Country_Region','Lat','Long_','Combined_Key','Population'], axis='columns').\\\n",
    "melt(id_vars=['FIPS','Admin2','Province_State'], var_name='date', value_name='deaths')"
   ]
  },
  {
   "cell_type": "code",
   "execution_count": 27,
   "id": "67a7e661",
   "metadata": {},
   "outputs": [],
   "source": [
    "long_deaths=state_and_date.drop('FIPS', axis='columns').groupby(['Province_State','date']).sum().reset_index()"
   ]
  },
  {
   "cell_type": "code",
   "execution_count": 28,
   "id": "9ffde4e1",
   "metadata": {},
   "outputs": [],
   "source": [
    "long_deaths['date']=pd.to_datetime(long_deaths['date'])"
   ]
  },
  {
   "cell_type": "code",
   "execution_count": 29,
   "id": "6eb70ace",
   "metadata": {},
   "outputs": [],
   "source": [
    "wide_deaths=long_deaths.sort_values(by='date').pivot(index='date', columns='Province_State',values='deaths').diff()"
   ]
  },
  {
   "cell_type": "code",
   "execution_count": 30,
   "id": "9c7bbffd",
   "metadata": {},
   "outputs": [],
   "source": [
    "wide_deaths_roll=wide_deaths.rolling(8, min_periods=1).mean().reset_index()"
   ]
  },
  {
   "cell_type": "markdown",
   "id": "921d1b86",
   "metadata": {},
   "source": [
    "Rolling 7-day new cases, to account for differences in reporting, otherwise the within-value variance is too high"
   ]
  },
  {
   "cell_type": "code",
   "execution_count": 31,
   "id": "abd5c5e8",
   "metadata": {},
   "outputs": [],
   "source": [
    "deaths_agg=wide_deaths_roll.melt(id_vars='date', value_name='deaths').fillna(0)\n",
    "deaths_agg.loc[(deaths_agg.deaths<0),'deaths']=0"
   ]
  },
  {
   "cell_type": "code",
   "execution_count": 32,
   "id": "91c41cf9",
   "metadata": {},
   "outputs": [],
   "source": [
    "deaths_agg['month']=pd.to_datetime(deaths_agg['date']).dt.month\n",
    "deaths_agg['year']=pd.to_datetime(deaths_agg['date']).dt.year"
   ]
  },
  {
   "cell_type": "markdown",
   "id": "a260b025",
   "metadata": {},
   "source": [
    "#### Final deaths dataset"
   ]
  },
  {
   "cell_type": "code",
   "execution_count": 33,
   "id": "afe9ce94",
   "metadata": {},
   "outputs": [
    {
     "data": {
      "text/html": [
       "<div>\n",
       "<style scoped>\n",
       "    .dataframe tbody tr th:only-of-type {\n",
       "        vertical-align: middle;\n",
       "    }\n",
       "\n",
       "    .dataframe tbody tr th {\n",
       "        vertical-align: top;\n",
       "    }\n",
       "\n",
       "    .dataframe thead th {\n",
       "        text-align: right;\n",
       "    }\n",
       "</style>\n",
       "<table border=\"1\" class=\"dataframe\">\n",
       "  <thead>\n",
       "    <tr style=\"text-align: right;\">\n",
       "      <th></th>\n",
       "      <th>date</th>\n",
       "      <th>Province_State</th>\n",
       "      <th>deaths</th>\n",
       "      <th>month</th>\n",
       "      <th>year</th>\n",
       "    </tr>\n",
       "  </thead>\n",
       "  <tbody>\n",
       "    <tr>\n",
       "      <th>0</th>\n",
       "      <td>2020-01-22</td>\n",
       "      <td>Alabama</td>\n",
       "      <td>0.0</td>\n",
       "      <td>1</td>\n",
       "      <td>2020</td>\n",
       "    </tr>\n",
       "    <tr>\n",
       "      <th>1</th>\n",
       "      <td>2020-01-23</td>\n",
       "      <td>Alabama</td>\n",
       "      <td>0.0</td>\n",
       "      <td>1</td>\n",
       "      <td>2020</td>\n",
       "    </tr>\n",
       "    <tr>\n",
       "      <th>2</th>\n",
       "      <td>2020-01-24</td>\n",
       "      <td>Alabama</td>\n",
       "      <td>0.0</td>\n",
       "      <td>1</td>\n",
       "      <td>2020</td>\n",
       "    </tr>\n",
       "    <tr>\n",
       "      <th>3</th>\n",
       "      <td>2020-01-25</td>\n",
       "      <td>Alabama</td>\n",
       "      <td>0.0</td>\n",
       "      <td>1</td>\n",
       "      <td>2020</td>\n",
       "    </tr>\n",
       "    <tr>\n",
       "      <th>4</th>\n",
       "      <td>2020-01-26</td>\n",
       "      <td>Alabama</td>\n",
       "      <td>0.0</td>\n",
       "      <td>1</td>\n",
       "      <td>2020</td>\n",
       "    </tr>\n",
       "  </tbody>\n",
       "</table>\n",
       "</div>"
      ],
      "text/plain": [
       "        date Province_State  deaths  month  year\n",
       "0 2020-01-22        Alabama     0.0      1  2020\n",
       "1 2020-01-23        Alabama     0.0      1  2020\n",
       "2 2020-01-24        Alabama     0.0      1  2020\n",
       "3 2020-01-25        Alabama     0.0      1  2020\n",
       "4 2020-01-26        Alabama     0.0      1  2020"
      ]
     },
     "execution_count": 33,
     "metadata": {},
     "output_type": "execute_result"
    }
   ],
   "source": [
    "deaths_agg.head()"
   ]
  },
  {
   "cell_type": "markdown",
   "id": "0c02502b",
   "metadata": {},
   "source": [
    "#### Now for the hospitalizations. \n",
    "This one's coming from the CDC, and for whatever reason, their API only let's me read 1000 rows from a URL. I downloaded the file on my local machine, and I'll add the link to the readme for my repo. If you want to reproduce this research, that's probably the easiest path. This is a pretty big file, so I don't want to throw the whole thing in the repo, but I'll have the source link and the final dataframe."
   ]
  },
  {
   "cell_type": "code",
   "execution_count": 34,
   "id": "04fc0a9a",
   "metadata": {},
   "outputs": [],
   "source": [
    "hosp_raw=pd.read_csv(hosp_url)"
   ]
  },
  {
   "cell_type": "code",
   "execution_count": 35,
   "id": "d9aef5ee",
   "metadata": {},
   "outputs": [],
   "source": [
    "hosp_select=hosp_raw[['state','date','total_adult_patients_hospitalized_confirmed_covid','total_pediatric_patients_hospitalized_confirmed_covid']].copy()"
   ]
  },
  {
   "cell_type": "markdown",
   "id": "f5484286",
   "metadata": {},
   "source": [
    "Adding the same date/month/year variables, so everything joins up nicely and has appropriate counterparts. This dataset had a TON of different metrics for hospitalization, so I added all the confirmed adult cases and all the confirmed pediatric cases. \n",
    "\n",
    "I think in the future it would be cool to use the variables by age group; since the goal is to use hospitalizations to infer background cases, it seems like either some groups would land in the hospital more, and so could be predictive of a rising trend, or conversely, if cases go up dramatically after a particular age group sees an increase in hospitalizations (indicative of high total cases in that age group), then we have a potential superspreader age bracket identified."
   ]
  },
  {
   "cell_type": "code",
   "execution_count": 36,
   "id": "ce7c63ca",
   "metadata": {},
   "outputs": [],
   "source": [
    "hosp_select['date']=pd.to_datetime(hosp_select['date'])\n",
    "hosp_select['month']=pd.to_datetime(hosp_select['date']).dt.month\n",
    "hosp_select['year']=pd.to_datetime(hosp_select['date']).dt.year\n",
    "hosp_select['hospitalized_covid']=hosp_select['total_adult_patients_hospitalized_confirmed_covid']+\\\n",
    "hosp_select['total_pediatric_patients_hospitalized_confirmed_covid']"
   ]
  },
  {
   "cell_type": "code",
   "execution_count": 37,
   "id": "333619e6",
   "metadata": {},
   "outputs": [],
   "source": [
    "hospital_agg=hosp_select.merge(states, how='inner', left_on='state', right_on='state_abbv', copy=False).drop('state', axis='columns').sort_values(by='date').fillna(0)"
   ]
  },
  {
   "cell_type": "markdown",
   "id": "42611a37",
   "metadata": {},
   "source": [
    "#### Final hospitalization dataset"
   ]
  },
  {
   "cell_type": "markdown",
   "id": "ae169d95",
   "metadata": {},
   "source": [
    "Again, very similar final variables as the above data sets. I'm only bringing the total hosptializations, not adult vs pediatric at this point."
   ]
  },
  {
   "cell_type": "code",
   "execution_count": 38,
   "id": "9bbd9db2",
   "metadata": {},
   "outputs": [
    {
     "data": {
      "text/html": [
       "<div>\n",
       "<style scoped>\n",
       "    .dataframe tbody tr th:only-of-type {\n",
       "        vertical-align: middle;\n",
       "    }\n",
       "\n",
       "    .dataframe tbody tr th {\n",
       "        vertical-align: top;\n",
       "    }\n",
       "\n",
       "    .dataframe thead th {\n",
       "        text-align: right;\n",
       "    }\n",
       "</style>\n",
       "<table border=\"1\" class=\"dataframe\">\n",
       "  <thead>\n",
       "    <tr style=\"text-align: right;\">\n",
       "      <th></th>\n",
       "      <th>date</th>\n",
       "      <th>total_adult_patients_hospitalized_confirmed_covid</th>\n",
       "      <th>total_pediatric_patients_hospitalized_confirmed_covid</th>\n",
       "      <th>month</th>\n",
       "      <th>year</th>\n",
       "      <th>hospitalized_covid</th>\n",
       "      <th>state_name</th>\n",
       "      <th>state_abbv</th>\n",
       "    </tr>\n",
       "  </thead>\n",
       "  <tbody>\n",
       "    <tr>\n",
       "      <th>22918</th>\n",
       "      <td>2020-01-01</td>\n",
       "      <td>0.0</td>\n",
       "      <td>0.0</td>\n",
       "      <td>1</td>\n",
       "      <td>2020</td>\n",
       "      <td>0.0</td>\n",
       "      <td>Hawaii</td>\n",
       "      <td>HI</td>\n",
       "    </tr>\n",
       "    <tr>\n",
       "      <th>28928</th>\n",
       "      <td>2020-01-01</td>\n",
       "      <td>0.0</td>\n",
       "      <td>0.0</td>\n",
       "      <td>1</td>\n",
       "      <td>2020</td>\n",
       "      <td>0.0</td>\n",
       "      <td>Louisiana</td>\n",
       "      <td>LA</td>\n",
       "    </tr>\n",
       "    <tr>\n",
       "      <th>14921</th>\n",
       "      <td>2020-01-01</td>\n",
       "      <td>0.0</td>\n",
       "      <td>0.0</td>\n",
       "      <td>1</td>\n",
       "      <td>2020</td>\n",
       "      <td>0.0</td>\n",
       "      <td>North Carolina</td>\n",
       "      <td>NC</td>\n",
       "    </tr>\n",
       "    <tr>\n",
       "      <th>9120</th>\n",
       "      <td>2020-01-01</td>\n",
       "      <td>0.0</td>\n",
       "      <td>0.0</td>\n",
       "      <td>1</td>\n",
       "      <td>2020</td>\n",
       "      <td>0.0</td>\n",
       "      <td>Alabama</td>\n",
       "      <td>AL</td>\n",
       "    </tr>\n",
       "    <tr>\n",
       "      <th>15666</th>\n",
       "      <td>2020-01-01</td>\n",
       "      <td>0.0</td>\n",
       "      <td>0.0</td>\n",
       "      <td>1</td>\n",
       "      <td>2020</td>\n",
       "      <td>0.0</td>\n",
       "      <td>Minnesota</td>\n",
       "      <td>MN</td>\n",
       "    </tr>\n",
       "  </tbody>\n",
       "</table>\n",
       "</div>"
      ],
      "text/plain": [
       "            date  total_adult_patients_hospitalized_confirmed_covid  \\\n",
       "22918 2020-01-01                                                0.0   \n",
       "28928 2020-01-01                                                0.0   \n",
       "14921 2020-01-01                                                0.0   \n",
       "9120  2020-01-01                                                0.0   \n",
       "15666 2020-01-01                                                0.0   \n",
       "\n",
       "       total_pediatric_patients_hospitalized_confirmed_covid  month  year  \\\n",
       "22918                                                0.0          1  2020   \n",
       "28928                                                0.0          1  2020   \n",
       "14921                                                0.0          1  2020   \n",
       "9120                                                 0.0          1  2020   \n",
       "15666                                                0.0          1  2020   \n",
       "\n",
       "       hospitalized_covid      state_name state_abbv  \n",
       "22918                 0.0          Hawaii         HI  \n",
       "28928                 0.0       Louisiana         LA  \n",
       "14921                 0.0  North Carolina         NC  \n",
       "9120                  0.0         Alabama         AL  \n",
       "15666                 0.0       Minnesota         MN  "
      ]
     },
     "execution_count": 38,
     "metadata": {},
     "output_type": "execute_result"
    }
   ],
   "source": [
    "hospital_agg.head()"
   ]
  },
  {
   "cell_type": "markdown",
   "id": "22334807",
   "metadata": {},
   "source": [
    "#### Now for the testing data. \n",
    "Again, this is from JHU, and has tests split into viral and antigen. I've lumped them together, but I could totally see going back and looking at them seperately, in case there's a stronger signal there."
   ]
  },
  {
   "cell_type": "code",
   "execution_count": 39,
   "id": "041f516f",
   "metadata": {},
   "outputs": [],
   "source": [
    "test_raw=pd.read_csv(testing_url).fillna(0)"
   ]
  },
  {
   "cell_type": "code",
   "execution_count": 40,
   "id": "52d14db3",
   "metadata": {},
   "outputs": [],
   "source": [
    "test_raw['tested_total']=test_raw['tests_antigen_total']+test_raw['tests_viral_total']\n",
    "test_raw['positive_total']=test_raw['tests_antigen_positive']+test_raw['tests_viral_positive']\n",
    "test_raw['tested_daily']=test_raw['tested_total'].diff()\n",
    "test_raw['positive_daily']=test_raw['positive_total'].diff()\n",
    "test_raw['positive_rate']=test_raw['positive_daily']/test_raw['tested_daily']"
   ]
  },
  {
   "cell_type": "markdown",
   "id": "5519a229",
   "metadata": {},
   "source": [
    "This data is also cumulative, so the \"tests_antigen_total\" column is a running total of all tests done in a state since Jan 2020. I'm taking the difference between one day and the previous day, for total as well as positive, and then dividing positive tests by total tests, to get the positivity rate for the day."
   ]
  },
  {
   "cell_type": "code",
   "execution_count": 41,
   "id": "a75c4d2a",
   "metadata": {},
   "outputs": [],
   "source": [
    "test_raw['date']=pd.to_datetime(test_raw['date'])\n",
    "test_raw['month']=pd.to_datetime(test_raw['date']).dt.month\n",
    "test_raw['year']=pd.to_datetime(test_raw['date']).dt.year"
   ]
  },
  {
   "cell_type": "markdown",
   "id": "24ea6d9d",
   "metadata": {},
   "source": [
    "Because these dates are stacked by state, we get some weird values when, for example, we subtract Wisconsin's cases on Jan 21 2020 from West Virginia's cases on Apr 22 2022; the \"daily increase\" is extremely negative, because the subtraction is going back in time two years and a different state. I just dropped the very few rows where this happens, so all percentage values are between 0% and 100%. "
   ]
  },
  {
   "cell_type": "code",
   "execution_count": 42,
   "id": "4e3e4dd4",
   "metadata": {},
   "outputs": [],
   "source": [
    "test_small=test_raw[['date','month','year','state','positive_rate']].fillna(0).replace([np.inf, -np.inf],0)"
   ]
  },
  {
   "cell_type": "code",
   "execution_count": 43,
   "id": "ee29108a",
   "metadata": {},
   "outputs": [],
   "source": [
    "test_agg=test_small[test_small['state'].isin(state_abbs)]"
   ]
  },
  {
   "cell_type": "code",
   "execution_count": 44,
   "id": "94c8d320",
   "metadata": {},
   "outputs": [],
   "source": [
    "test_agg=test_agg[(test_agg.positive_rate <= 1) & (test_agg.positive_rate >= 0)]"
   ]
  },
  {
   "cell_type": "markdown",
   "id": "e52b0b12",
   "metadata": {},
   "source": [
    "#### Final testing data set"
   ]
  },
  {
   "cell_type": "code",
   "execution_count": 45,
   "id": "160a0dd3",
   "metadata": {},
   "outputs": [
    {
     "data": {
      "text/html": [
       "<div>\n",
       "<style scoped>\n",
       "    .dataframe tbody tr th:only-of-type {\n",
       "        vertical-align: middle;\n",
       "    }\n",
       "\n",
       "    .dataframe tbody tr th {\n",
       "        vertical-align: top;\n",
       "    }\n",
       "\n",
       "    .dataframe thead th {\n",
       "        text-align: right;\n",
       "    }\n",
       "</style>\n",
       "<table border=\"1\" class=\"dataframe\">\n",
       "  <thead>\n",
       "    <tr style=\"text-align: right;\">\n",
       "      <th></th>\n",
       "      <th>date</th>\n",
       "      <th>month</th>\n",
       "      <th>year</th>\n",
       "      <th>state</th>\n",
       "      <th>positive_rate</th>\n",
       "    </tr>\n",
       "  </thead>\n",
       "  <tbody>\n",
       "    <tr>\n",
       "      <th>0</th>\n",
       "      <td>2020-03-06</td>\n",
       "      <td>3</td>\n",
       "      <td>2020</td>\n",
       "      <td>AK</td>\n",
       "      <td>0.0</td>\n",
       "    </tr>\n",
       "    <tr>\n",
       "      <th>1</th>\n",
       "      <td>2020-03-07</td>\n",
       "      <td>3</td>\n",
       "      <td>2020</td>\n",
       "      <td>AK</td>\n",
       "      <td>0.0</td>\n",
       "    </tr>\n",
       "    <tr>\n",
       "      <th>2</th>\n",
       "      <td>2020-03-08</td>\n",
       "      <td>3</td>\n",
       "      <td>2020</td>\n",
       "      <td>AK</td>\n",
       "      <td>0.0</td>\n",
       "    </tr>\n",
       "    <tr>\n",
       "      <th>3</th>\n",
       "      <td>2020-03-09</td>\n",
       "      <td>3</td>\n",
       "      <td>2020</td>\n",
       "      <td>AK</td>\n",
       "      <td>0.0</td>\n",
       "    </tr>\n",
       "    <tr>\n",
       "      <th>4</th>\n",
       "      <td>2020-03-10</td>\n",
       "      <td>3</td>\n",
       "      <td>2020</td>\n",
       "      <td>AK</td>\n",
       "      <td>0.0</td>\n",
       "    </tr>\n",
       "  </tbody>\n",
       "</table>\n",
       "</div>"
      ],
      "text/plain": [
       "        date  month  year state  positive_rate\n",
       "0 2020-03-06      3  2020    AK            0.0\n",
       "1 2020-03-07      3  2020    AK            0.0\n",
       "2 2020-03-08      3  2020    AK            0.0\n",
       "3 2020-03-09      3  2020    AK            0.0\n",
       "4 2020-03-10      3  2020    AK            0.0"
      ]
     },
     "execution_count": 45,
     "metadata": {},
     "output_type": "execute_result"
    }
   ],
   "source": [
    "test_agg.head()"
   ]
  },
  {
   "cell_type": "markdown",
   "id": "430d10e2",
   "metadata": {},
   "source": [
    "#### Now for wastewater monitoring. \n",
    "This is actually two files, again from the CDC, and again on my local machine since the API is again, limiting me to 1000 rows."
   ]
  },
  {
   "cell_type": "code",
   "execution_count": 46,
   "id": "e4d1cf17",
   "metadata": {},
   "outputs": [],
   "source": [
    "water_1=pd.read_csv(ww_1_url, low_memory=False)\n",
    "water_2=pd.read_csv(ww_2_url, low_memory=False)"
   ]
  },
  {
   "cell_type": "code",
   "execution_count": 47,
   "id": "875f3bc3",
   "metadata": {},
   "outputs": [],
   "source": [
    "water_lookup=water_2[['key_plot_id','wwtp_jurisdiction']].drop_duplicates()"
   ]
  },
  {
   "cell_type": "code",
   "execution_count": 48,
   "id": "fefadfe3",
   "metadata": {},
   "outputs": [],
   "source": [
    "water=water_1.merge(water_lookup, how='inner',on='key_plot_id')"
   ]
  },
  {
   "cell_type": "markdown",
   "id": "ba20099e",
   "metadata": {},
   "source": [
    "I joined the two files, since one has the state name and the water treatment site name, and the other just has the treatment site name and the concentration."
   ]
  },
  {
   "cell_type": "code",
   "execution_count": 49,
   "id": "1a40eccb",
   "metadata": {},
   "outputs": [],
   "source": [
    "water['date']=pd.to_datetime(water['date'])\n",
    "water['month']=pd.to_datetime(water['date']).dt.month\n",
    "water['year']=pd.to_datetime(water['date']).dt.year"
   ]
  },
  {
   "cell_type": "markdown",
   "id": "279628a0",
   "metadata": {},
   "source": [
    "Because these measurements are taken irregularly, I filled the NA values with the previous valid entry; basically, the measurement doesn't change until we get a new measurement, whether that's a week, or two, or three."
   ]
  },
  {
   "cell_type": "code",
   "execution_count": 50,
   "id": "c52f3202",
   "metadata": {},
   "outputs": [],
   "source": [
    "water=water.sort_values(by=\"date\").fillna(method='ffill').drop('key_plot_id', axis='columns').reset_index(drop=True)"
   ]
  },
  {
   "cell_type": "markdown",
   "id": "e3358048",
   "metadata": {},
   "source": [
    "There were also two different methods for how the concentration was normalized. I chose \"flow-population\" which accounts for the population of the area it serves. Both made sense, but this one was more complete. In the future I might go back and incorporate the other as well."
   ]
  },
  {
   "cell_type": "code",
   "execution_count": 51,
   "id": "55cdab4f",
   "metadata": {},
   "outputs": [],
   "source": [
    "water_flow=water[water['normalization']=='flow-population'].drop('normalization', axis='columns').drop_duplicates()"
   ]
  },
  {
   "cell_type": "code",
   "execution_count": 52,
   "id": "83675104",
   "metadata": {},
   "outputs": [
    {
     "data": {
      "text/plain": [
       "(95956, 5)"
      ]
     },
     "execution_count": 52,
     "metadata": {},
     "output_type": "execute_result"
    }
   ],
   "source": [
    "water_flow.shape"
   ]
  },
  {
   "cell_type": "markdown",
   "id": "e9777891",
   "metadata": {},
   "source": [
    "#### Final wastewater dataset"
   ]
  },
  {
   "cell_type": "code",
   "execution_count": 53,
   "id": "b3e9de92",
   "metadata": {},
   "outputs": [
    {
     "data": {
      "text/html": [
       "<div>\n",
       "<style scoped>\n",
       "    .dataframe tbody tr th:only-of-type {\n",
       "        vertical-align: middle;\n",
       "    }\n",
       "\n",
       "    .dataframe tbody tr th {\n",
       "        vertical-align: top;\n",
       "    }\n",
       "\n",
       "    .dataframe thead th {\n",
       "        text-align: right;\n",
       "    }\n",
       "</style>\n",
       "<table border=\"1\" class=\"dataframe\">\n",
       "  <thead>\n",
       "    <tr style=\"text-align: right;\">\n",
       "      <th></th>\n",
       "      <th>date</th>\n",
       "      <th>pcr_conc_smoothed</th>\n",
       "      <th>wwtp_jurisdiction</th>\n",
       "      <th>month</th>\n",
       "      <th>year</th>\n",
       "    </tr>\n",
       "  </thead>\n",
       "  <tbody>\n",
       "    <tr>\n",
       "      <th>0</th>\n",
       "      <td>2022-01-13</td>\n",
       "      <td>NaN</td>\n",
       "      <td>New York</td>\n",
       "      <td>1</td>\n",
       "      <td>2022</td>\n",
       "    </tr>\n",
       "    <tr>\n",
       "      <th>1</th>\n",
       "      <td>2022-01-13</td>\n",
       "      <td>1.645220e+08</td>\n",
       "      <td>Oregon</td>\n",
       "      <td>1</td>\n",
       "      <td>2022</td>\n",
       "    </tr>\n",
       "    <tr>\n",
       "      <th>2</th>\n",
       "      <td>2022-01-13</td>\n",
       "      <td>1.645220e+08</td>\n",
       "      <td>Illinois</td>\n",
       "      <td>1</td>\n",
       "      <td>2022</td>\n",
       "    </tr>\n",
       "    <tr>\n",
       "      <th>4</th>\n",
       "      <td>2022-01-13</td>\n",
       "      <td>5.623477e+07</td>\n",
       "      <td>Virginia</td>\n",
       "      <td>1</td>\n",
       "      <td>2022</td>\n",
       "    </tr>\n",
       "    <tr>\n",
       "      <th>5</th>\n",
       "      <td>2022-01-13</td>\n",
       "      <td>1.408148e+08</td>\n",
       "      <td>Ohio</td>\n",
       "      <td>1</td>\n",
       "      <td>2022</td>\n",
       "    </tr>\n",
       "  </tbody>\n",
       "</table>\n",
       "</div>"
      ],
      "text/plain": [
       "        date  pcr_conc_smoothed wwtp_jurisdiction  month  year\n",
       "0 2022-01-13                NaN          New York      1  2022\n",
       "1 2022-01-13       1.645220e+08            Oregon      1  2022\n",
       "2 2022-01-13       1.645220e+08          Illinois      1  2022\n",
       "4 2022-01-13       5.623477e+07          Virginia      1  2022\n",
       "5 2022-01-13       1.408148e+08              Ohio      1  2022"
      ]
     },
     "execution_count": 53,
     "metadata": {},
     "output_type": "execute_result"
    }
   ],
   "source": [
    "water_flow.head()"
   ]
  },
  {
   "cell_type": "markdown",
   "id": "b5ff530a",
   "metadata": {},
   "source": [
    "#### Now I'm bringing in the vaccination data set. \n",
    "It's, again, from the CDC, and looks at the county and date level, so it's pretty big (~35m rows?). "
   ]
  },
  {
   "cell_type": "code",
   "execution_count": 54,
   "id": "491f400e",
   "metadata": {},
   "outputs": [],
   "source": [
    "vacc_raw=pd.read_csv(vacc_url, low_memory=False)"
   ]
  },
  {
   "cell_type": "markdown",
   "id": "8dec6475",
   "metadata": {},
   "source": [
    "Again, lots of variables here, but I'm bringing in counts and the population estimates so I can calculate percentage of people who are vaccinated."
   ]
  },
  {
   "cell_type": "code",
   "execution_count": 55,
   "id": "7286bc57",
   "metadata": {},
   "outputs": [],
   "source": [
    "vacc_small=vacc_raw[['Date','Recip_State','Administered_Dose1_Recip','Series_Complete_Yes','Booster_Doses','Census2019']].copy()"
   ]
  },
  {
   "cell_type": "code",
   "execution_count": 56,
   "id": "0b777d69",
   "metadata": {},
   "outputs": [
    {
     "data": {
      "text/html": [
       "<div>\n",
       "<style scoped>\n",
       "    .dataframe tbody tr th:only-of-type {\n",
       "        vertical-align: middle;\n",
       "    }\n",
       "\n",
       "    .dataframe tbody tr th {\n",
       "        vertical-align: top;\n",
       "    }\n",
       "\n",
       "    .dataframe thead th {\n",
       "        text-align: right;\n",
       "    }\n",
       "</style>\n",
       "<table border=\"1\" class=\"dataframe\">\n",
       "  <thead>\n",
       "    <tr style=\"text-align: right;\">\n",
       "      <th></th>\n",
       "      <th>Date</th>\n",
       "      <th>Recip_State</th>\n",
       "      <th>Administered_Dose1_Recip</th>\n",
       "      <th>Series_Complete_Yes</th>\n",
       "      <th>Booster_Doses</th>\n",
       "      <th>Census2019</th>\n",
       "    </tr>\n",
       "  </thead>\n",
       "  <tbody>\n",
       "    <tr>\n",
       "      <th>0</th>\n",
       "      <td>05/17/2022</td>\n",
       "      <td>TN</td>\n",
       "      <td>514191.0</td>\n",
       "      <td>454719.0</td>\n",
       "      <td>215035.0</td>\n",
       "      <td>694144.0</td>\n",
       "    </tr>\n",
       "    <tr>\n",
       "      <th>1</th>\n",
       "      <td>05/17/2022</td>\n",
       "      <td>TN</td>\n",
       "      <td>2782.0</td>\n",
       "      <td>2483.0</td>\n",
       "      <td>781.0</td>\n",
       "      <td>7016.0</td>\n",
       "    </tr>\n",
       "    <tr>\n",
       "      <th>2</th>\n",
       "      <td>05/17/2022</td>\n",
       "      <td>TX</td>\n",
       "      <td>10195.0</td>\n",
       "      <td>9118.0</td>\n",
       "      <td>3854.0</td>\n",
       "      <td>18443.0</td>\n",
       "    </tr>\n",
       "    <tr>\n",
       "      <th>3</th>\n",
       "      <td>05/17/2022</td>\n",
       "      <td>TX</td>\n",
       "      <td>9307.0</td>\n",
       "      <td>8082.0</td>\n",
       "      <td>2839.0</td>\n",
       "      <td>18546.0</td>\n",
       "    </tr>\n",
       "    <tr>\n",
       "      <th>4</th>\n",
       "      <td>05/17/2022</td>\n",
       "      <td>TX</td>\n",
       "      <td>11435.0</td>\n",
       "      <td>9936.0</td>\n",
       "      <td>3412.0</td>\n",
       "      <td>23021.0</td>\n",
       "    </tr>\n",
       "  </tbody>\n",
       "</table>\n",
       "</div>"
      ],
      "text/plain": [
       "         Date Recip_State  Administered_Dose1_Recip  Series_Complete_Yes  \\\n",
       "0  05/17/2022          TN                  514191.0             454719.0   \n",
       "1  05/17/2022          TN                    2782.0               2483.0   \n",
       "2  05/17/2022          TX                   10195.0               9118.0   \n",
       "3  05/17/2022          TX                    9307.0               8082.0   \n",
       "4  05/17/2022          TX                   11435.0               9936.0   \n",
       "\n",
       "   Booster_Doses  Census2019  \n",
       "0       215035.0    694144.0  \n",
       "1          781.0      7016.0  \n",
       "2         3854.0     18443.0  \n",
       "3         2839.0     18546.0  \n",
       "4         3412.0     23021.0  "
      ]
     },
     "execution_count": 56,
     "metadata": {},
     "output_type": "execute_result"
    }
   ],
   "source": [
    "vacc_small.head()"
   ]
  },
  {
   "cell_type": "markdown",
   "id": "54141637",
   "metadata": {},
   "source": [
    "Adding our normal date, month, year variables, and then adding together all the county data in a state."
   ]
  },
  {
   "cell_type": "code",
   "execution_count": 57,
   "id": "4973ea0a",
   "metadata": {},
   "outputs": [],
   "source": [
    "vacc_small['Date']=pd.to_datetime(vacc_small['Date'])\n",
    "vacc_small['month']=pd.to_datetime(vacc_small['Date']).dt.month\n",
    "vacc_small['year']=pd.to_datetime(vacc_small['Date']).dt.year"
   ]
  },
  {
   "cell_type": "code",
   "execution_count": 58,
   "id": "63a94e16",
   "metadata": {},
   "outputs": [],
   "source": [
    "vacc_agg=vacc_small.groupby(['Date','Recip_State','month','year']).sum().reset_index().sort_values(by='Date')"
   ]
  },
  {
   "cell_type": "code",
   "execution_count": 59,
   "id": "26110b1d",
   "metadata": {},
   "outputs": [
    {
     "data": {
      "text/html": [
       "<div>\n",
       "<style scoped>\n",
       "    .dataframe tbody tr th:only-of-type {\n",
       "        vertical-align: middle;\n",
       "    }\n",
       "\n",
       "    .dataframe tbody tr th {\n",
       "        vertical-align: top;\n",
       "    }\n",
       "\n",
       "    .dataframe thead th {\n",
       "        text-align: right;\n",
       "    }\n",
       "</style>\n",
       "<table border=\"1\" class=\"dataframe\">\n",
       "  <thead>\n",
       "    <tr style=\"text-align: right;\">\n",
       "      <th></th>\n",
       "      <th>Date</th>\n",
       "      <th>Recip_State</th>\n",
       "      <th>month</th>\n",
       "      <th>year</th>\n",
       "      <th>Administered_Dose1_Recip</th>\n",
       "      <th>Series_Complete_Yes</th>\n",
       "      <th>Booster_Doses</th>\n",
       "      <th>Census2019</th>\n",
       "    </tr>\n",
       "  </thead>\n",
       "  <tbody>\n",
       "    <tr>\n",
       "      <th>0</th>\n",
       "      <td>2020-12-13</td>\n",
       "      <td>AK</td>\n",
       "      <td>12</td>\n",
       "      <td>2020</td>\n",
       "      <td>0.0</td>\n",
       "      <td>0.0</td>\n",
       "      <td>0.0</td>\n",
       "      <td>731545.0</td>\n",
       "    </tr>\n",
       "    <tr>\n",
       "      <th>29</th>\n",
       "      <td>2020-12-13</td>\n",
       "      <td>ND</td>\n",
       "      <td>12</td>\n",
       "      <td>2020</td>\n",
       "      <td>0.0</td>\n",
       "      <td>0.0</td>\n",
       "      <td>0.0</td>\n",
       "      <td>762062.0</td>\n",
       "    </tr>\n",
       "    <tr>\n",
       "      <th>30</th>\n",
       "      <td>2020-12-13</td>\n",
       "      <td>NE</td>\n",
       "      <td>12</td>\n",
       "      <td>2020</td>\n",
       "      <td>0.0</td>\n",
       "      <td>0.0</td>\n",
       "      <td>0.0</td>\n",
       "      <td>1934408.0</td>\n",
       "    </tr>\n",
       "    <tr>\n",
       "      <th>31</th>\n",
       "      <td>2020-12-13</td>\n",
       "      <td>NH</td>\n",
       "      <td>12</td>\n",
       "      <td>2020</td>\n",
       "      <td>0.0</td>\n",
       "      <td>0.0</td>\n",
       "      <td>0.0</td>\n",
       "      <td>1359711.0</td>\n",
       "    </tr>\n",
       "    <tr>\n",
       "      <th>32</th>\n",
       "      <td>2020-12-13</td>\n",
       "      <td>NJ</td>\n",
       "      <td>12</td>\n",
       "      <td>2020</td>\n",
       "      <td>0.0</td>\n",
       "      <td>0.0</td>\n",
       "      <td>0.0</td>\n",
       "      <td>8882190.0</td>\n",
       "    </tr>\n",
       "  </tbody>\n",
       "</table>\n",
       "</div>"
      ],
      "text/plain": [
       "         Date Recip_State  month  year  Administered_Dose1_Recip  \\\n",
       "0  2020-12-13          AK     12  2020                       0.0   \n",
       "29 2020-12-13          ND     12  2020                       0.0   \n",
       "30 2020-12-13          NE     12  2020                       0.0   \n",
       "31 2020-12-13          NH     12  2020                       0.0   \n",
       "32 2020-12-13          NJ     12  2020                       0.0   \n",
       "\n",
       "    Series_Complete_Yes  Booster_Doses  Census2019  \n",
       "0                   0.0            0.0    731545.0  \n",
       "29                  0.0            0.0    762062.0  \n",
       "30                  0.0            0.0   1934408.0  \n",
       "31                  0.0            0.0   1359711.0  \n",
       "32                  0.0            0.0   8882190.0  "
      ]
     },
     "execution_count": 59,
     "metadata": {},
     "output_type": "execute_result"
    }
   ],
   "source": [
    "vacc_agg.head()"
   ]
  },
  {
   "cell_type": "markdown",
   "id": "caa4b0e3",
   "metadata": {},
   "source": [
    "Now dividing the counts by the census to get the percentages, and selecting the percentages."
   ]
  },
  {
   "cell_type": "code",
   "execution_count": 60,
   "id": "f5920052",
   "metadata": {},
   "outputs": [],
   "source": [
    "vacc_agg['partial_vacc']=vacc_agg['Administered_Dose1_Recip']/vacc_agg['Census2019']\n",
    "vacc_agg['full_vacc']=vacc_agg['Series_Complete_Yes']/vacc_agg['Census2019']\n",
    "vacc_agg['vacc_boost']=vacc_agg['Booster_Doses']/vacc_agg['Census2019']"
   ]
  },
  {
   "cell_type": "code",
   "execution_count": 61,
   "id": "155c30a3",
   "metadata": {},
   "outputs": [],
   "source": [
    "vacc_agg=vacc_agg[['Date', 'Recip_State', 'month', 'year','partial_vacc',\n",
    "       'full_vacc', 'vacc_boost']]"
   ]
  },
  {
   "cell_type": "markdown",
   "id": "60d5aeee",
   "metadata": {},
   "source": [
    "#### Final vaccination dataset"
   ]
  },
  {
   "cell_type": "code",
   "execution_count": 62,
   "id": "a83d41d8",
   "metadata": {},
   "outputs": [
    {
     "data": {
      "text/html": [
       "<div>\n",
       "<style scoped>\n",
       "    .dataframe tbody tr th:only-of-type {\n",
       "        vertical-align: middle;\n",
       "    }\n",
       "\n",
       "    .dataframe tbody tr th {\n",
       "        vertical-align: top;\n",
       "    }\n",
       "\n",
       "    .dataframe thead th {\n",
       "        text-align: right;\n",
       "    }\n",
       "</style>\n",
       "<table border=\"1\" class=\"dataframe\">\n",
       "  <thead>\n",
       "    <tr style=\"text-align: right;\">\n",
       "      <th></th>\n",
       "      <th>Date</th>\n",
       "      <th>Recip_State</th>\n",
       "      <th>month</th>\n",
       "      <th>year</th>\n",
       "      <th>partial_vacc</th>\n",
       "      <th>full_vacc</th>\n",
       "      <th>vacc_boost</th>\n",
       "    </tr>\n",
       "  </thead>\n",
       "  <tbody>\n",
       "    <tr>\n",
       "      <th>0</th>\n",
       "      <td>2020-12-13</td>\n",
       "      <td>AK</td>\n",
       "      <td>12</td>\n",
       "      <td>2020</td>\n",
       "      <td>0.0</td>\n",
       "      <td>0.0</td>\n",
       "      <td>0.0</td>\n",
       "    </tr>\n",
       "    <tr>\n",
       "      <th>29</th>\n",
       "      <td>2020-12-13</td>\n",
       "      <td>ND</td>\n",
       "      <td>12</td>\n",
       "      <td>2020</td>\n",
       "      <td>0.0</td>\n",
       "      <td>0.0</td>\n",
       "      <td>0.0</td>\n",
       "    </tr>\n",
       "    <tr>\n",
       "      <th>30</th>\n",
       "      <td>2020-12-13</td>\n",
       "      <td>NE</td>\n",
       "      <td>12</td>\n",
       "      <td>2020</td>\n",
       "      <td>0.0</td>\n",
       "      <td>0.0</td>\n",
       "      <td>0.0</td>\n",
       "    </tr>\n",
       "    <tr>\n",
       "      <th>31</th>\n",
       "      <td>2020-12-13</td>\n",
       "      <td>NH</td>\n",
       "      <td>12</td>\n",
       "      <td>2020</td>\n",
       "      <td>0.0</td>\n",
       "      <td>0.0</td>\n",
       "      <td>0.0</td>\n",
       "    </tr>\n",
       "    <tr>\n",
       "      <th>32</th>\n",
       "      <td>2020-12-13</td>\n",
       "      <td>NJ</td>\n",
       "      <td>12</td>\n",
       "      <td>2020</td>\n",
       "      <td>0.0</td>\n",
       "      <td>0.0</td>\n",
       "      <td>0.0</td>\n",
       "    </tr>\n",
       "  </tbody>\n",
       "</table>\n",
       "</div>"
      ],
      "text/plain": [
       "         Date Recip_State  month  year  partial_vacc  full_vacc  vacc_boost\n",
       "0  2020-12-13          AK     12  2020           0.0        0.0         0.0\n",
       "29 2020-12-13          ND     12  2020           0.0        0.0         0.0\n",
       "30 2020-12-13          NE     12  2020           0.0        0.0         0.0\n",
       "31 2020-12-13          NH     12  2020           0.0        0.0         0.0\n",
       "32 2020-12-13          NJ     12  2020           0.0        0.0         0.0"
      ]
     },
     "execution_count": 62,
     "metadata": {},
     "output_type": "execute_result"
    }
   ],
   "source": [
    "vacc_agg.head()"
   ]
  },
  {
   "cell_type": "markdown",
   "id": "0834a426",
   "metadata": {},
   "source": [
    "#### Let's get the census data too, so we can bring in per 100k cases, deaths, and hospitalizations"
   ]
  },
  {
   "cell_type": "code",
   "execution_count": 63,
   "id": "4dd731cc",
   "metadata": {},
   "outputs": [],
   "source": [
    "state_census=vacc_small[['Recip_State','Census2019']].groupby('Recip_State').max().reset_index().copy()\n",
    "state_census=state_census[state_census['Recip_State'].isin(state_abbs)]"
   ]
  },
  {
   "cell_type": "markdown",
   "id": "17691348",
   "metadata": {},
   "source": [
    "## Now to join everything together"
   ]
  },
  {
   "cell_type": "markdown",
   "id": "7c9c1ddb",
   "metadata": {},
   "source": [
    "Here's where all the hard work pays off. What I'm looking for is a single dataframe with all the variables above which might impact case counts, all joined together by date and state, so that I can do some nifty machine learning.\n",
    "\n",
    "The \"case\" column will be what I'm predicting for future values, and the other columns are there so the algorithms can discern the mathematical relationship between the variables, so that we can predict cases given values of the other variables.\n",
    "\n",
    "That way, even as testing sites are shut down, and people are either testing at home or not at all, we can use these more robust metrics to determine a more appropriate level of caution.\n",
    "\n",
    "Yes, I'll be doing some fun combinatorics and probability mass functions to determine actual risk, as well as an ANOVA of the effectiveness of mask orders. I also am planning on looking at the improvement in outcomes due to vaccination, and even the relative risk of the vaccines (I have all the VAERS data going back to 1999, so we can compare these vaccines to all the previous vaccines we get, as well as the risk of hospitalization or death due to covid). \n",
    "\n",
    "I'm personally very pro-vaccine, but I understand lots of people have hesitations, so I'm making the science as transparent as possible to help people understand and see it how I do."
   ]
  },
  {
   "cell_type": "code",
   "execution_count": 64,
   "id": "8512176d",
   "metadata": {},
   "outputs": [],
   "source": [
    "con_df=cases_agg.merge(deaths_agg, how='left',left_on=['Province_State','date','month','year'], right_on=['Province_State','date','month','year'], copy=False).\\\n",
    "merge(states, how='left', left_on=['Province_State'], right_on=['state_name'], copy=False).\\\n",
    "merge(test_agg, how='left', left_on=['state_abbv','date','month','year'], right_on=['state','date','month','year'], copy=False).\\\n",
    "merge(hospital_agg, how='left',left_on=['Province_State','state_abbv','date','month','year'], right_on=['state_name','state_abbv','date','month','year'], copy=False).\\\n",
    "merge(vacc_agg, how='left', left_on=['state_abbv','date','month','year'], right_on=['Recip_State','Date','month','year'],copy=False).\\\n",
    "merge(water_flow, how='left', left_on=['Province_State','date','month','year'], right_on=['wwtp_jurisdiction','date','month','year'], copy=False).\\\n",
    "merge(variant_agg, how='left', left_on=['Province_State','month','year'], right_on=['state','month','year'], copy=False).\\\n",
    "merge(state_census, how='left',left_on='state_abbv', right_on='Recip_State', copy=False)"
   ]
  },
  {
   "cell_type": "markdown",
   "id": "b25c7e47",
   "metadata": {},
   "source": [
    "Let's do some cleanup, and get the columns we really need."
   ]
  },
  {
   "cell_type": "code",
   "execution_count": 65,
   "id": "efd618ff",
   "metadata": {},
   "outputs": [
    {
     "data": {
      "text/plain": [
       "Index(['date', 'Province_State', 'cases', 'month', 'year', 'deaths',\n",
       "       'state_name_x', 'state_abbv', 'state_x', 'positive_rate',\n",
       "       'total_adult_patients_hospitalized_confirmed_covid',\n",
       "       'total_pediatric_patients_hospitalized_confirmed_covid',\n",
       "       'hospitalized_covid', 'state_name_y', 'Date', 'Recip_State_x',\n",
       "       'partial_vacc', 'full_vacc', 'vacc_boost', 'pcr_conc_smoothed',\n",
       "       'wwtp_jurisdiction', 'state_y', 'alpha_per', 'beta_per', 'gamma_per',\n",
       "       'delta_per', 'omicron_per', 'kappa_per', 'eta_per', 'iota_per',\n",
       "       'lambda_per', 'mu_per', 'eu1_per', 'epsilon_per', 'other_per',\n",
       "       'Recip_State_y', 'Census2019'],\n",
       "      dtype='object')"
      ]
     },
     "execution_count": 65,
     "metadata": {},
     "output_type": "execute_result"
    }
   ],
   "source": [
    "con_df.columns"
   ]
  },
  {
   "cell_type": "code",
   "execution_count": 66,
   "id": "085b7962",
   "metadata": {},
   "outputs": [],
   "source": [
    "con_clean=con_df[['date','month', 'year', 'Province_State',  'cases', 'deaths','hospitalized_covid','partial_vacc', 'full_vacc', 'vacc_boost', 'pcr_conc_smoothed',\\\n",
    "                 'alpha_per', 'beta_per', 'gamma_per','delta_per', 'omicron_per', 'kappa_per', 'eta_per', 'iota_per',\\\n",
    "                  'lambda_per', 'mu_per', 'eu1_per', 'epsilon_per', 'other_per','positive_rate', 'Census2019']]"
   ]
  },
  {
   "cell_type": "code",
   "execution_count": 67,
   "id": "4e88ca52",
   "metadata": {},
   "outputs": [],
   "source": [
    "con_clean=con_clean[con_clean['Province_State'].isin(state_names)].drop_duplicates()"
   ]
  },
  {
   "cell_type": "code",
   "execution_count": 68,
   "id": "2e226a10",
   "metadata": {},
   "outputs": [
    {
     "data": {
      "text/plain": [
       "Index(['date', 'month', 'year', 'Province_State', 'cases', 'deaths',\n",
       "       'hospitalized_covid', 'partial_vacc', 'full_vacc', 'vacc_boost',\n",
       "       'pcr_conc_smoothed', 'alpha_per', 'beta_per', 'gamma_per', 'delta_per',\n",
       "       'omicron_per', 'kappa_per', 'eta_per', 'iota_per', 'lambda_per',\n",
       "       'mu_per', 'eu1_per', 'epsilon_per', 'other_per', 'positive_rate',\n",
       "       'Census2019'],\n",
       "      dtype='object')"
      ]
     },
     "execution_count": 68,
     "metadata": {},
     "output_type": "execute_result"
    }
   ],
   "source": [
    "con_clean.columns"
   ]
  },
  {
   "cell_type": "code",
   "execution_count": 69,
   "id": "7b84039a",
   "metadata": {},
   "outputs": [],
   "source": [
    "con_out=con_clean.groupby(['date','month','year','Province_State']).agg({'cases':'mean',\n",
    "                                                                         'deaths':'mean',\n",
    "                                                                         'hospitalized_covid':'mean',\n",
    "                                                                        'partial_vacc':'mean', \n",
    "                                                                         'full_vacc':'mean',\n",
    "                                                                         'vacc_boost':'mean',\n",
    "                                                                         'pcr_conc_smoothed':'mean',\n",
    "                                                                         'alpha_per':'mean',\n",
    "                                                                         'beta_per':'mean', \n",
    "                                                                         'gamma_per':'mean', \n",
    "                                                                         'delta_per':'mean',\n",
    "                                                                         'omicron_per':'mean', \n",
    "                                                                         'kappa_per':'mean', \n",
    "                                                                         'eta_per':'mean', \n",
    "                                                                         'iota_per':'mean', \n",
    "                                                                         'lambda_per':'mean',\n",
    "                                                                          'mu_per':'mean', \n",
    "                                                                         'eu1_per':'mean', \n",
    "                                                                         'epsilon_per':'mean', \n",
    "                                                                         'other_per':'mean',\n",
    "                                                                        'positive_rate':'mean',\n",
    "                                                                        'Census2019':'max'}).reset_index().fillna(0)"
   ]
  },
  {
   "cell_type": "markdown",
   "id": "abbf5f64",
   "metadata": {},
   "source": [
    "Now we need to turn daily cases into cases per 100k. Same with deaths and hospitalizations. We're already looking at variants and vaccinations as a percentage, and positivity rate as a percentage of all tests done, so it makes sense to normalize by population for the state. \n",
    "\n",
    "If you didn't, you could get weird results, like 100% test positivity rate leads to 100 cases in Montana and 100,000 cases in New York, and that would break the mathematical relationship. If we normalize for population we'd expect to see a similar cases per 100k people (or deaths per 100k, or hospitalizations per 100k), provided there is a mathematical relationship there."
   ]
  },
  {
   "cell_type": "code",
   "execution_count": 70,
   "id": "9c8ea965",
   "metadata": {},
   "outputs": [],
   "source": [
    "con_out['daily_new_cases_per_100k']=(con_out['cases']/con_out['Census2019'])*100000\n",
    "con_out['daily_new_deaths_per_100k']=(con_out['deaths']/con_out['Census2019'])*100000\n",
    "con_out['daily_new_hosp_per_100k']=(con_out['hospitalized_covid']/con_out['Census2019'])*100000"
   ]
  },
  {
   "cell_type": "markdown",
   "id": "f5140c45",
   "metadata": {},
   "source": [
    "Ok, that's a wrap. We have a dataframe with 41k observations of 24 variables, and one with some blank values, which has 121k observations of 24 variables. We'll see if the missing values throw off the algorithm, but if they don't, I'd rather use the more complete one, as it has a longer time frame. The issue is that the CDC only started monitoring wastewater in December 2021, so any values before that time are blank. We'll see what we can get."
   ]
  },
  {
   "cell_type": "code",
   "execution_count": 71,
   "id": "aed51877",
   "metadata": {},
   "outputs": [],
   "source": [
    "con_out.to_csv('consolidated data- daily case count.csv', index=False)"
   ]
  },
  {
   "cell_type": "markdown",
   "id": "95f92f79",
   "metadata": {},
   "source": [
    "I'm writing the final data set to a csv file, and those will be located in the repo for reference and reproducibility. They're small enough that you could probably open them in Excel if you really wanted to."
   ]
  },
  {
   "cell_type": "markdown",
   "id": "01911e9f",
   "metadata": {},
   "source": [
    "## To Be Continued..."
   ]
  }
 ],
 "metadata": {
  "kernelspec": {
   "display_name": "Python 3 (ipykernel)",
   "language": "python",
   "name": "python3"
  },
  "language_info": {
   "codemirror_mode": {
    "name": "ipython",
    "version": 3
   },
   "file_extension": ".py",
   "mimetype": "text/x-python",
   "name": "python",
   "nbconvert_exporter": "python",
   "pygments_lexer": "ipython3",
   "version": "3.9.5"
  }
 },
 "nbformat": 4,
 "nbformat_minor": 5
}
